{
 "cells": [
  {
   "cell_type": "code",
   "execution_count": 65,
   "metadata": {
    "collapsed": false
   },
   "outputs": [
    {
     "name": "stdout",
     "output_type": "stream",
     "text": [
      "  Termino    E^x Aprox  Et()                Ea()\n",
      "---------  -----------  ------------------  -----------------\n",
      "        0      1        64.87212707 %       100.0 %\n",
      "        1      1.5      9.91475138001 %     33.3333333333 %\n",
      "        2      1.625    1.45977050462 %     7.69230769231 %\n",
      "        3      1.64583  0.17546961216 %     1.26582278481 %\n",
      "        4      1.64844  0.0172145258845 %   0.157977883096 %\n",
      "        5      1.6487   0.00141651379705 %  0.0157952930027 %\n"
     ]
    }
   ],
   "source": [
    "import math\n",
    "from tabulate import tabulate\n",
    "tabla = []\n",
    "Es=(0.5*math.pow(10,(-1)))\n",
    "val=math.pow(math.e,(0.5))\n",
    "Val2=0\n",
    "i=0\n",
    "while 1:\n",
    "    Exaprox=math.pow(0.5, i)/math.factorial(i)\n",
    "    ant=Val2\n",
    "    Val2+=Exaprox\n",
    "    Ever=val-Val2\n",
    "    Et=(Ever/Val2)*100\n",
    "    Ea=((Val2-ant)/Val2)*100\n",
    "    tabla.append([i,Val2,str(Et)+\" %\",str(Ea)+\" %\"])\n",
    "    i+=1\n",
    "    if(Ea<=Es):\n",
    "        break\n",
    "print tabulate(tabla, headers=[\"Termino\", \"E^x Aprox\", \"Et()\", \"Ea()\"])    "
   ]
  },
  {
   "cell_type": "code",
   "execution_count": null,
   "metadata": {
    "collapsed": true
   },
   "outputs": [],
   "source": []
  },
  {
   "cell_type": "code",
   "execution_count": null,
   "metadata": {
    "collapsed": true
   },
   "outputs": [],
   "source": []
  },
  {
   "cell_type": "code",
   "execution_count": null,
   "metadata": {
    "collapsed": true
   },
   "outputs": [],
   "source": []
  },
  {
   "cell_type": "code",
   "execution_count": null,
   "metadata": {
    "collapsed": true
   },
   "outputs": [],
   "source": []
  }
 ],
 "metadata": {
  "kernelspec": {
   "display_name": "Python 2",
   "language": "python",
   "name": "python2"
  },
  "language_info": {
   "codemirror_mode": {
    "name": "ipython",
    "version": 2
   },
   "file_extension": ".py",
   "mimetype": "text/x-python",
   "name": "python",
   "nbconvert_exporter": "python",
   "pygments_lexer": "ipython2",
   "version": "2.7.10"
  }
 },
 "nbformat": 4,
 "nbformat_minor": 0
}
