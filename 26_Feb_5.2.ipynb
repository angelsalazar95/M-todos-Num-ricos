{
 "cells": [
  {
   "cell_type": "code",
   "execution_count": 10,
   "metadata": {
    "collapsed": false
   },
   "outputs": [
    {
     "data": {
      "image/png": "[encoded data removed]",
      "text/plain": [
       "<matplotlib.figure.Figure at 0xb7087f0>"
      ]
     },
     "metadata": {},
     "output_type": "display_data"
    },
    {
     "name": "stdout",
     "output_type": "stream",
     "text": [
      "|   Iteracion |    xl |     xu |      xr |   Ea(%) |    Et(%) |\n",
      "|------------:|------:|-------:|--------:|--------:|---------:|\n",
      "|           1 | 0     | 1      | 0.5     |   100   | 16.38    |\n",
      "|           2 | 0     | 0.5    | 0.25    |   100   | 67.24    |\n",
      "|           3 | 0.25  | 0.5    | 0.375   |    33.3 | 11.4933  |\n",
      "|           4 | 0.375 | 0.5    | 0.4375  |    14.3 |  4.43429 |\n",
      "|           5 | 0.375 | 0.4375 | 0.40625 |     7.7 |  2.91692 |\n"
     ]
    }
   ],
   "source": [
    "#5.1\n",
    "import math\n",
    "import matplotlib.pyplot as plt\n",
    "%matplotlib inline\n",
    "from tabulate import tabulate\n",
    "i=-6\n",
    "datos=[]\n",
    "X,Y=[],[]\n",
    "def func(val):\n",
    "    valor=5*val*val*val-5*val*val+6*val-2\n",
    "    return valor\n",
    "#grafica\n",
    "while 1:\n",
    "    X.append(i)\n",
    "    Y.append(func(i))\n",
    "    i+=1\n",
    "    if(i==7):\n",
    "        break\n",
    "    \n",
    "plt.axis([-6,6,-1000,1000])\n",
    "plt.plot(X,Y)\n",
    "plt.title(\"Metodo Grafico\")\n",
    "plt.xlabel(\"X\")\n",
    "plt.ylabel(\"Y(X)\")\n",
    "plt.grid(True)\n",
    "plt.show()\n",
    "#Bisección\n",
    "xl,xu,xr,fxl,fxr,xrant,i=0.0,1.0,0.0,1.0,1.0,0.0,1\n",
    "es=10\n",
    "verd=0.41810\n",
    "while 1:\n",
    "    xrant=xr\n",
    "    xr=(xl+xu)/2\n",
    "    fxl=func(xl)\n",
    "    fxr=func(xr)\n",
    "    ea=math.fabs((xr-xrant)/xr)*100\n",
    "    et=math.fabs((verd-xr)/xr)*100\n",
    "    datos.append([i,xl,xu,xr,round(ea,1),et])\n",
    "    if(ea<es):\n",
    "        break\n",
    "    if((fxl*fxr)<0):\n",
    "        xu=xr\n",
    "    if((fxl*fxr)>0):\n",
    "        xl=xr\n",
    "    i+=1\n",
    "print tabulate(datos,headers=[\"Iteracion\", \"xl\", \"xu\",\"xr\",\"Ea(%)\",\"Et(%)\"],tablefmt='pipe')"
   ]
  },
  {
   "cell_type": "code",
   "execution_count": null,
   "metadata": {
    "collapsed": true
   },
   "outputs": [],
   "source": []
  }
 ],
 "metadata": {
  "kernelspec": {
   "display_name": "Python 2",
   "language": "python",
   "name": "python2"
  },
  "language_info": {
   "codemirror_mode": {
    "name": "ipython",
    "version": 2
   },
   "file_extension": ".py",
   "mimetype": "text/x-python",
   "name": "python",
   "nbconvert_exporter": "python",
   "pygments_lexer": "ipython2",
   "version": "2.7.10"
  }
 },
 "nbformat": 4,
 "nbformat_minor": 0
}
