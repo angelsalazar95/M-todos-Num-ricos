{
 "cells": [
  {
   "cell_type": "code",
   "execution_count": null,
   "metadata": {
    "collapsed": true
   },
   "outputs": [],
   "source": [
    "import math\n",
    "import matplotlib.pyplot as plt\n",
    "import matplotlib.pyplot as plt1\n",
    "vectorA=[10,16.30,23,27.50,31,35.6,39,41.5,42.9,45,46,45.5,46,49,50]\n",
    "vectorB=[8.953,16.405,22.607,27.769,32.065,35.641, 38.617,41.095, 43.156,44.872,46.301, 47.490, 48.479, 49.303, 49.988]\n",
    "vectorC=[11.240,18.570, 23.729, 27.556, 30.509, 32.855, 34.766, 36.351, 37.687, 38.829, 39.816, 40.678, 41.437, 42.110, 42.712]\n",
    "n=len(vectorA)\n",
    "%matplotlib inline\n",
    "t,z,t2,ac=[],[],[],[]\n",
    "def suma (a):\n",
    "    s=0\n",
    "    for i in range(n):\n",
    "        s+=a[i]\n",
    "    return s\n",
    "def mul (a,b):\n",
    "    r=0\n",
    "    for j in range (n):\n",
    "        r+=a[j]*b[j]\n",
    "        t.append(j)\n",
    "    return r\n",
    "\n",
    "num=(n*(mul(vectorA,vectorB))-(suma(vectorA)*suma(vectorB)))\n",
    "den=(math.sqrt(n*mul(vectorA, vectorA)-suma(vectorA)**2)*math.sqrt(n*mul(vectorB, vectorB)-suma(vectorB)**2))\n",
    "\n",
    "res=(num)/(den)\n",
    "\n",
    "num1=(n*(mul(vectorA,vectorC))-(suma(vectorA)*suma(vectorC)))\n",
    "den1=(math.sqrt(n*mul(vectorA, vectorA)-suma(vectorA)**2)*math.sqrt(n*mul(vectorC, vectorC)-suma(vectorC)**2))\n",
    "\n",
    "res1=(num1)/(den1)\n",
    "\n",
    "a1=(n*(mul(vectorA,vectorB))-(suma(vectorA))*suma(vectorB))/((n*mul(vectorA,vectorA))-(suma(vectorA)**2))\n",
    "a0=((suma(vectorB))/n)-a1*((suma(vectorA))/n)\n",
    "\n",
    "a1b=(n*(mul(vectorA,vectorC))-(suma(vectorA))*suma(vectorC))/((n*mul(vectorA,vectorA))-(suma(vectorA)**2))\n",
    "a0b=((suma(vectorC))/n)-a1b*((suma(vectorA))/n)\n",
    "for k in range (50):\n",
    "    y=a0+a1*k\n",
    "    y2=a0b+a1b*k\n",
    "    z.append(y)\n",
    "    ac.append(y2)\n",
    "    t2.append(k)\n",
    "print \"coeficiente de correlación para a,b \",res\n",
    "print \"coeficiente de correlación para a,c \",res1\n",
    "\n",
    "plt.plot(vectorA,vectorB, 'o', label='v medida / v calculada b')\n",
    "plt.plot(t2,z, label='recta y=a0+a1*x (a y b)')\n",
    "plt.grid()\n",
    "plt.xlabel('v medida')\n",
    "plt.ylabel('y')\n",
    "plt.legend(loc='upper left', numpoints=1)\n",
    "plt.show()\n",
    "\n",
    "plt1.plot(vectorA, vectorC, 'ro', label='v medida / v calcula c')\n",
    "plt1.plot(t2,ac, label='recta Y=a0+a1*x (a y c)')\n",
    "plt1.grid()\n",
    "plt1.xlabel('v medida')\n",
    "plt1.ylabel('y')\n",
    "plt1.legend(loc='upper left', numpoints=1)\n",
    "plt1.show()"
   ]
  }
 ],
 "metadata": {
  "kernelspec": {
   "display_name": "Python 2",
   "language": "python",
   "name": "python2"
  },
  "language_info": {
   "codemirror_mode": {
    "name": "ipython",
    "version": 2
   },
   "file_extension": ".py",
   "mimetype": "text/x-python",
   "name": "python",
   "nbconvert_exporter": "python",
   "pygments_lexer": "ipython2",
   "version": "2.7.10"
  }
 },
 "nbformat": 4,
 "nbformat_minor": 0
}
