{
 "cells": [
  {
   "cell_type": "code",
   "execution_count": 3,
   "metadata": {
    "collapsed": false
   },
   "outputs": [
    {
     "name": "stdout",
     "output_type": "stream",
     "text": [
      "|   Iteracion |      xl |      xu |    Raiz |   F(xl)*F(xu) |       F(c) |\n",
      "|------------:|--------:|--------:|--------:|--------------:|-----------:|\n",
      "|           1 | 12      | 16      | 14      |   9.5172      |  51.1443   |\n",
      "|           2 | 14      | 16      | 15      |  -0.666448    |  44.9205   |\n",
      "|           3 | 14      | 15      | 14.5    |   0.866422    |  39.2634   |\n",
      "|           4 | 14.5    | 15      | 14.75   |   0.0325611   |  34.1148   |\n",
      "|           5 | 14.75   | 15      | 14.875  |  -0.0108549   |  29.4232   |\n",
      "|           6 | 14.75   | 14.875  | 14.8125 |  -0.0037072   |  25.1424   |\n",
      "|           7 | 14.75   | 14.8125 | 14.7812 |  -0.000120234 |  21.2314   |\n",
      "|           8 | 14.75   | 14.7812 | 14.7656 |   0.00167654  |  17.6534   |\n",
      "|           9 | 14.7656 | 14.7812 | 14.7734 |   0.000375238 |  14.3758   |\n",
      "|          10 | 14.7734 | 14.7812 | 14.7773 |   7.35805e-05 |  11.3691   |\n",
      "|          11 | 14.7773 | 14.7812 | 14.7793 |   9.86045e-06 |   8.60731  |\n",
      "|          12 | 14.7793 | 14.7812 | 14.7803 |  -2.39946e-07 |   6.06694  |\n",
      "|          13 | 14.7793 | 14.7803 | 14.7798 |   1.44329e-06 |   3.727    |\n",
      "|          14 | 14.7798 | 14.7803 | 14.78   |   2.77739e-07 |   1.5687   |\n",
      "|          15 | 14.78   | 14.7803 | 14.7802 |   3.48032e-08 |  -0.424841 |\n",
      "|          16 | 14.7802 | 14.7803 | 14.7802 |  -1.70903e-09 |  -2.26876  |\n",
      "|          17 | 14.7802 | 14.7802 | 14.7802 |   4.3763e-09  |  -3.97667  |\n",
      "|          18 | 14.7802 | 14.7802 | 14.7802 |   5.57885e-10 |  -5.56079  |\n",
      "|          19 | 14.7802 | 14.7802 | 14.7802 |  -2.39273e-11 |  -7.03214  |\n",
      "|          20 | 14.7802 | 14.7802 | 14.7802 |   7.30413e-11 |  -8.40063  |\n",
      "|          21 | 14.7802 | 14.7802 | 14.7802 |   1.05504e-11 |  -9.67519  |\n",
      "|          22 | 14.7802 | 14.7802 | 14.7802 |   4.54787e-14 | -10.8639   |\n",
      "|          23 | 14.7802 | 14.7802 | 14.7802 |  -2.18647e-14 | -11.974    |\n",
      "|          24 | 14.7802 | 14.7802 | 14.7802 |  -1.06408e-14 | -13.0121   |\n",
      "|          25 | 14.7802 | 14.7802 | 14.7802 |  -5.02886e-15 | -13.9842   |\n",
      "|          26 | 14.7802 | 14.7802 | 14.7802 |  -2.22288e-15 | -14.8956   |\n",
      "|          27 | 14.7802 | 14.7802 | 14.7802 |  -8.19892e-16 | -15.7512   |\n",
      "|          28 | 14.7802 | 14.7802 | 14.7802 |  -1.18398e-16 | -16.5555   |\n",
      "|          29 | 14.7802 | 14.7802 | 14.7802 |   2.32349e-16 | -17.3124   |\n",
      "|          30 | 14.7802 | 14.7802 | 14.7802 |   2.27034e-17 | -18.0257   |\n",
      "|          31 | 14.7802 | 14.7802 | 14.7802 |  -3.00083e-18 | -18.6986   |\n",
      "|          32 | 14.7802 | 14.7802 | 14.7802 |   1.28321e-18 | -19.3343   |\n",
      "|          33 | 14.7802 | 14.7802 | 14.7802 |  -1.97952e-19 | -19.9353   |\n",
      "|          34 | 14.7802 | 14.7802 | 14.7802 |   4.89102e-20 | -20.5044   |\n",
      "|          35 | 14.7802 | 14.7802 | 14.7802 |  -1.23228e-20 | -21.0438   |\n",
      "|          36 | 14.7802 | 14.7802 | 14.7802 |  -2.1177e-21  | -21.5555   |\n",
      "|          37 | 14.7802 | 14.7802 | 14.7802 |   2.98548e-21 | -22.0415   |\n",
      "|          38 | 14.7802 | 14.7802 | 14.7802 |   1.6016e-22  | -22.5036   |\n",
      "|          39 | 14.7802 | 14.7802 | 14.7802 |  -4.51477e-23 | -22.9434   |\n",
      "|          40 | 14.7802 | 14.7802 | 14.7802 |  -1.09356e-23 | -23.3624   |\n",
      "|          41 | 14.7802 | 14.7802 | 14.7802 |   6.17053e-24 | -23.762    |\n",
      "|          42 | 14.7802 | 14.7802 | 14.7802 |  -6.36137e-25 | -24.1433   |\n",
      "|          43 | 14.7802 | 14.7802 | 14.7802 |   4.99822e-25 | -24.5076   |\n",
      "|          44 | 14.7802 | 14.7802 | 14.7802 |  -1.94375e-26 | -24.856    |\n",
      "|          45 | 14.7802 | 14.7802 | 14.7802 |   6.6643e-26  | -25.1893   |\n",
      "|          46 | 14.7802 | 14.7802 | 14.7802 |   1.09052e-26 | -25.5086   |\n",
      "|          47 | 14.7802 | 14.7802 | 14.7802 |   4.54384e-28 | -25.8147   |\n",
      "|          48 | 14.7802 | 14.7802 | 14.7802 |  -1.51461e-28 | -26.1083   |\n",
      "|          49 | 14.7802 | 14.7802 | 14.7802 |  -5.04871e-29 | -26.3902   |\n",
      "|          50 | 14.7802 | 14.7802 | 14.7802 |  -5.04871e-29 | -26.661    |\n",
      "|          51 | 14.7802 | 14.7802 | 14.7802 |   0           | -26.9214   |\n"
     ]
    },
    {
     "data": {
      "image/png": "[encoded data removed]",
      "text/plain": [
       "<matplotlib.figure.Figure at 0xaaea898>"
      ]
     },
     "metadata": {},
     "output_type": "display_data"
    }
   ],
   "source": [
    "import math\n",
    "import matplotlib.pyplot as plt\n",
    "from tabulate import tabulate\n",
    "%matplotlib inline\n",
    "m, g, v, t, fxl, fx2, xl, xu, xr, i =68.1, 9.8, 40.0, 10.0, 1.0, 1.0, 12.0, 16.0, 0, 1\n",
    "datos, f,time=[],[],[]\n",
    "while((fxl*fx2)!=0):\n",
    "    xr=(xl+xu)/2\n",
    "    fxl=((g*m)/xl)*(1-math.exp(-(xl/68.1)*10.0))-v\n",
    "    fx2=((g*m)/xr)*(1-math.exp(-(xr/68.1)*10.0))-v\n",
    "    num= fxl*fx2\n",
    "    fc=((g*m)/i)*(1-math.exp(-(i/68.1)*10.0))-v\n",
    "    f.append(fc)\n",
    "    time.append(i)\n",
    "    datos.append([i,xl,xu,xr,num, fc])\n",
    "    if((fxl*fx2)<0):\n",
    "        xu=xr\n",
    "    if((fxl*fx2)>0):\n",
    "        xl=xr\n",
    "    i+=1\n",
    "print tabulate(datos,headers=[\"Iteracion\", \"xl\", \"xu\",\"Raiz\", \"F(xl)*F(xu)\", \"F(c)\"],tablefmt='pipe')\n",
    "plt.plot(time,f)\n",
    "plt.xlabel('C')\n",
    "plt.ylabel('F(c)')\n",
    "plt.grid(True)\n",
    "plt.show()"
   ]
  },
  {
   "cell_type": "code",
   "execution_count": null,
   "metadata": {
    "collapsed": true
   },
   "outputs": [],
   "source": []
  }
 ],
 "metadata": {
  "kernelspec": {
   "display_name": "Python 2",
   "language": "python",
   "name": "python2"
  },
  "language_info": {
   "codemirror_mode": {
    "name": "ipython",
    "version": 2
   },
   "file_extension": ".py",
   "mimetype": "text/x-python",
   "name": "python",
   "nbconvert_exporter": "python",
   "pygments_lexer": "ipython2",
   "version": "2.7.10"
  }
 },
 "nbformat": 4,
 "nbformat_minor": 0
}
