{
 "cells": [
  {
   "cell_type": "code",
   "execution_count": 8,
   "metadata": {
    "collapsed": false
   },
   "outputs": [
    {
     "name": "stdout",
     "output_type": "stream",
     "text": [
      "Método Analítico 2.66667\n"
     ]
    },
    {
     "data": {
      "image/png": "[encoded data removed]",
      "text/plain": [
       "<matplotlib.figure.Figure at 0xb9e1d68>"
      ]
     },
     "metadata": {},
     "output_type": "display_data"
    },
    {
     "name": "stdout",
     "output_type": "stream",
     "text": [
      "Método Bisección\n",
      "|   Iteracion |   xl |   xu |   xr |   Ea(%) |    Et(%) |\n",
      "|------------:|-----:|-----:|-----:|--------:|---------:|\n",
      "|           1 |  1   |    3 | 2    |   100   | 33.3335  |\n",
      "|           2 |  2   |    3 | 2.5  |    20   |  6.6668  |\n",
      "|           3 |  2.5 |    3 | 2.75 |     9.1 |  3.03018 |\n",
      "Falsa posición\n",
      "|   Iteracion |      xl |   xu |      xr |     Ea(%) |    Et(%) |\n",
      "|------------:|--------:|-----:|--------:|----------:|---------:|\n",
      "|           1 | 1       |    3 | 2.875   | 100       | 7.24626  |\n",
      "|           2 | 2.875   |    3 | 2.64063 |   8.87574 | 0.98632  |\n",
      "|           3 | 2.64063 |    3 | 2.66992 |   1.09729 | 0.121797 |\n"
     ]
    }
   ],
   "source": [
    "import math\n",
    "import matplotlib.pyplot as plt\n",
    "%matplotlib inline\n",
    "from tabulate import tabulate\n",
    "i=-3\n",
    "datos=[]\n",
    "verd=2.66667\n",
    "X,Y=[],[]\n",
    "def func(x):\n",
    "    valor=(0.8-0.3*x)/x\n",
    "    return valor\n",
    "#analítico\n",
    "#x=0.8/0.3\n",
    "print \"Método Analítico \"+str(verd)\n",
    "#grafica\n",
    "while 1:\n",
    "    if(i==0):\n",
    "        X.append(-0.1)\n",
    "        Y.append(-9)\n",
    "        X.append(0.1)\n",
    "        Y.append(9)\n",
    "        \n",
    "    else:\n",
    "        X.append(i)\n",
    "        Y.append(func(i))\n",
    "    i=i+1\n",
    "    if(i==4):\n",
    "        break\n",
    "    \n",
    "plt.axis([-3,3,-5,5])\n",
    "plt.plot(X,Y)\n",
    "plt.title(\"Metodo Grafico\")\n",
    "plt.xlabel(\"X\")\n",
    "plt.ylabel(\"Y(X)\")\n",
    "plt.grid(True)\n",
    "plt.show()\n",
    "#Bisección\n",
    "xl,xu,xr,fxl,fxr,xrant,i=1.0,3.0,0.0,1.0,1.0,0.0,1\n",
    "print \"Método Bisección\"\n",
    "for i in range(1,4):\n",
    "    xrant=xr\n",
    "    xr=(xl+xu)/2\n",
    "    fxl=func(xl)\n",
    "    fxr=func(xr)\n",
    "    ea=math.fabs((xr-xrant)/xr)*100\n",
    "    et=math.fabs((verd-xr)/xr)*100\n",
    "    datos.append([i,xl,xu,xr,round(ea,1),et])\n",
    "    if((fxl*fxr)<0):\n",
    "        xu=xr\n",
    "    if((fxl*fxr)>0):\n",
    "        xl=xr\n",
    "print tabulate(datos,headers=[\"Iteracion\", \"xl\", \"xu\",\"xr\",\"Ea(%)\",\"Et(%)\"],tablefmt='pipe')\n",
    "#Falsa Posición\n",
    "xl,xu,xr,fxl,fxr,xrant,i=1.0,3.0,0.0,1.0,1.0,0.0,1\n",
    "datos=[]\n",
    "for i in range(1,4):\n",
    "    xrant=xr\n",
    "    xr=xu-(func(xu)*(xl-xu))/(func(xl)-func(xu))\n",
    "    ea=math.fabs((xr-xrant)/xr)*100\n",
    "    et=math.fabs((verd-xr)/xr)*100\n",
    "    datos.append([i,xl,xu,xr,ea,et])\n",
    "    if((fxl*fxr)<0):\n",
    "        xu=xr\n",
    "    if((fxl*fxr)>0):\n",
    "        xl=xr\n",
    "print \"Falsa posición\"\n",
    "print tabulate(datos,headers=[\"Iteracion\", \"xl\", \"xu\",\"xr\",\"Ea(%)\",\"Et(%)\"],tablefmt='pipe')"
   ]
  },
  {
   "cell_type": "code",
   "execution_count": null,
   "metadata": {
    "collapsed": true
   },
   "outputs": [],
   "source": []
  }
 ],
 "metadata": {
  "kernelspec": {
   "display_name": "Python 2",
   "language": "python",
   "name": "python2"
  },
  "language_info": {
   "codemirror_mode": {
    "name": "ipython",
    "version": 2
   },
   "file_extension": ".py",
   "mimetype": "text/x-python",
   "name": "python",
   "nbconvert_exporter": "python",
   "pygments_lexer": "ipython2",
   "version": "2.7.10"
  }
 },
 "nbformat": 4,
 "nbformat_minor": 0
}
