{
 "cells": [
  {
   "cell_type": "code",
   "execution_count": 14,
   "metadata": {
    "collapsed": false,
    "scrolled": true
   },
   "outputs": [
    {
     "name": "stdout",
     "output_type": "stream",
     "text": [
      "|   Termino |    E^x Aprox | Et               | Ea               |\n",
      "|----------:|-------------:|:-----------------|:-----------------|\n",
      "|         0 |   1          | -99.3262053 %    | 100.0 %          |\n",
      "|         1 |  -4          | -100.168448675 % | 125.0 %          |\n",
      "|         2 |   8.5        | -99.9207300353 % | 147.058823529 %  |\n",
      "|         3 | -12.3333     | -100.054632003 % | 168.918918919 %  |\n",
      "|         4 |  13.7083     | -99.950847803 %  | 189.969604863 %  |\n",
      "|         5 | -12.3333     | -100.054632003 % | 211.148648649 %  |\n",
      "|         6 |   9.36806    | -99.9280752878 % | 231.653076353 %  |\n",
      "|         7 |  -6.13294    | -100.10986494 %  | 252.74991912 %   |\n",
      "|         8 |   3.55518    | -99.8104754103 % | 272.506888974 %  |\n",
      "|         9 |  -1.82711    | -100.368777142 % | 294.580103164 %  |\n",
      "|        10 |   0.864039   | -99.2201802922 % | 311.460966217 %  |\n",
      "|        11 |  -0.359208   | -101.875776551 % | 340.53977243 %   |\n",
      "|        12 |   0.150478   | -95.5223056384 % | 338.711501129 %  |\n",
      "|        13 |  -0.0455552  | -114.790729656 % | 430.320215304 %  |\n",
      "|        14 |   0.0244567  | -72.4494520229 % | 286.269025383 %  |\n",
      "|        15 |   0.00111938 | 501.935741885 %  | -2084.84126844 % |\n",
      "|        16 |   0.00841228 | -19.9034714138 % | 86.6935084573 %  |\n",
      "|        17 |   0.00626731 | 7.50936367034 %  | -34.2247480234 % |\n",
      "|        18 |   0.00686314 | -1.82409624109 % | 8.68153209431 %  |\n",
      "|        19 |   0.00670634 | 0.471284498192 % | -2.33802863167 % |\n",
      "1/E^x\n",
      "|   Termino |   E^x Aprox | Et                  | Ea                   |\n",
      "|----------:|------------:|:--------------------|:---------------------|\n",
      "|         0 |  1          | 99.3262053 %        | 100.0 %              |\n",
      "|         1 |  0.166667   | 95.9572318 %        | -500.0 %             |\n",
      "|         2 |  0.0540541  | 87.53479805 %       | -208.333333333 %     |\n",
      "|         3 |  0.0254237  | 73.4974084667 %     | -112.612612613 %     |\n",
      "|         4 |  0.0152964  | 55.9506714875 %     | -66.2076271186 %     |\n",
      "|         5 |  0.0109389  | 38.4039345083 %     | -39.8342893563 %     |\n",
      "|         6 |  0.00884032 | 23.7816536924 %     | -23.7389851109 %     |\n",
      "|         7 |  0.0077749  | 13.3371673952 %     | -13.7033756347 %     |\n",
      "|         8 |  0.00723028 | 6.80936345954 %     | -7.53241469209 %     |\n",
      "|         9 |  0.00695945 | 3.18280571748 %     | -3.89154734498 %     |\n",
      "|        10 |  0.00683151 | 1.36952684645 %     | -1.87288929871 %     |\n",
      "|        11 |  0.00677489 | 0.545309177802 %    | -0.835662288029 %    |\n",
      "|        12 |  0.00675158 | 0.201885149198 %    | -0.345307019473 %    |\n",
      "|        13 |  0.00674265 | 0.0697989843506 %   | -0.132353366639 %    |\n",
      "|        14 |  0.00673947 | 0.0226253540479 %   | -0.0472065800161 %   |\n",
      "|        15 |  0.00673841 | 0.00690081061364 %  | -0.015728101973 %    |\n",
      "|        16 |  0.00673808 | 0.00198689079044 %  | -0.0049142589469 %   |\n",
      "|        17 |  0.00673798 | 0.000541620254213 % | -0.00144529925275 %  |\n",
      "|        18 |  0.00673796 | 0.000140156216368 % | -0.000401466212267 % |\n",
      "|        19 |  0.00673795 | 3.45077853512e-05 % | -0.00010564857909 %  |\n"
     ]
    }
   ],
   "source": [
    "# Ejercicio 3.5\n",
    "import math\n",
    "from tabulate import tabulate\n",
    "val=6.737947*math.pow(10, -3)\n",
    "tabla=[]\n",
    "Val2=0\n",
    "x=5\n",
    "for i in range(20):\n",
    "    if(i%2!=0):\n",
    "        Exaprox=-(math.pow(x, i)/math.factorial(i))\n",
    "    else:\n",
    "        Exaprox=(math.pow(x, i)/math.factorial(i))\n",
    "    ant=Val2\n",
    "    Val2+=Exaprox\n",
    "    Ever=val-Val2\n",
    "    Et=(Ever/Val2)*100\n",
    "    Ea=((Val2-ant)/Val2)*100\n",
    "    tabla.append([i,Val2,str(Et)+\" %\",str(Ea)+\" %\"])\n",
    "print tabulate(tabla, headers=[\"Termino\", \"E^x Aprox\", \"Et\", \"Ea\"], tablefmt=\"pipe\")    \n",
    "tabla=[]\n",
    "Val2=0\n",
    "Val3=0\n",
    "print \"1/E^x\"\n",
    "for i in range(20):\n",
    "    Exaprox=(math.pow(x, i)/math.factorial(i))\n",
    "    ant=Val3\n",
    "    Val2+=Exaprox\n",
    "    Val3=1/Val2\n",
    "    Ever=math.fabs(val-Val3)\n",
    "    Et=(Ever/Val3)*100\n",
    "    Ea=((Val3-ant)/Val3)*100\n",
    "    tabla.append([i,Val3,str(Et)+\" %\",str(Ea)+\" %\"])\n",
    "print tabulate(tabla, headers=[\"Termino\", \"E^x Aprox\", \"Et\", \"Ea\"], tablefmt=\"pipe\")    \n"
   ]
  },
  {
   "cell_type": "code",
   "execution_count": 19,
   "metadata": {
    "collapsed": false
   },
   "outputs": [
    {
     "name": "stdout",
     "output_type": "stream",
     "text": [
      "| Formula   |   Valor Verdadero |   Aproximado |       Et % |\n",
      "|:----------|------------------:|-------------:|-----------:|\n",
      "| Formula 1 |          0.743053 |        0.743 | 0.00713324 |\n",
      "| Formula 2 |          0.743053 |        0.743 | 0.00713324 |\n"
     ]
    }
   ],
   "source": [
    "# Ejercicio 3.7\n",
    "from sympy import *\n",
    "tabla=[]\n",
    "x=1.37\n",
    "y=x*x*x-7*x*x+8*x+0.35\n",
    "val=y\n",
    "y=round(y,3)\n",
    "Ev=val-y\n",
    "Et=(Ev/y)*100\n",
    "tabla.append([\"Formula 1 \",val, y, Et])\n",
    "#inciso b\n",
    "y=((x-7)*x+8)*x+0.35\n",
    "val=y\n",
    "y=round(y,3)\n",
    "Ev=val-y\n",
    "Et=(Ev/y)*100\n",
    "tabla.append([\"Formula 2 \",val, y, Et])\n",
    "\n",
    "print tabulate(tabla, headers=[\"Formula\", \"Valor Verdadero\", \"Aproximado\", \"Et %\"], tablefmt=\"pipe\")"
   ]
  },
  {
   "cell_type": "code",
   "execution_count": 58,
   "metadata": {
    "collapsed": false
   },
   "outputs": [
    {
     "name": "stdout",
     "output_type": "stream",
     "text": [
      "  Termino    Cos X Aprox  Et %                 Ea %\n",
      "---------  -------------  -------------------  -------------------\n",
      "        1       1         41.221475 %          100.0 %\n",
      "        2       0.555868  5.74191344363 %      -79.8988889967 %\n",
      "        3       0.588743  0.162739866552 %     5.58402351337 %\n",
      "        4       0.58777   0.00260074255007 %   -0.165610122795 %\n",
      "        5       0.587785  2.61420437773e-05 %  0.00262681627712 %\n",
      "        6       0.587785  2.16406350789e-07 %  -2.5925644204e-05 %\n",
      "        7       0.587785  3.90867165679e-07 %  1.74460815268e-07 %\n"
     ]
    }
   ],
   "source": [
    "# Ejercicio 3.9\n",
    "x=0.3*math.pi\n",
    "tabla=[]\n",
    "Es=(0.5*math.pow(10,(-6)))\n",
    "Val=round(math.cos(x), 8)\n",
    "serie,i ,n =0,0,1\n",
    "band=False\n",
    "while 1:\n",
    "    if(i%2==0):\n",
    "        cosxaprox=math.pow(x, i)/math.factorial(i)\n",
    "        ant=serie\n",
    "        if(band==False):\n",
    "            serie=serie+cosxaprox\n",
    "            band=True\n",
    "        else:\n",
    "            serie=serie-cosxaprox\n",
    "            band=False\n",
    "        Ev=math.fabs(Val-serie)\n",
    "        Et=(Ev/serie)*100\n",
    "        Ea=((serie-ant)/serie)*100\n",
    "        tabla.append([n,serie,str(Et)+\" %\",str(Ea)+\" %\"])\n",
    "        n+=1\n",
    "    if(math.fabs(Ea)<Es):\n",
    "        break\n",
    "    i+=1\n",
    "    \n",
    "print tabulate(tabla, headers=[\"Termino\", \"Cos X Aprox\", \"Et % \", \"Ea %\"])"
   ]
  },
  {
   "cell_type": "code",
   "execution_count": 96,
   "metadata": {
    "collapsed": false
   },
   "outputs": [
    {
     "name": "stdout",
     "output_type": "stream",
     "text": [
      "Valor real       Valor Aprox    Error Rel %\n",
      "---------------  -------------  -------------\n",
      "Primera Formula\n",
      "5000             5000.0         0.0\n",
      "0.002            0.002          0.0\n",
      "Segunda Formula\n",
      "5000             5000.0         0.0\n",
      "0.002            0.002          0.0\n"
     ]
    }
   ],
   "source": [
    "# Ejercicio 3.10\n",
    "from sympy import *\n",
    "tabla=[]\n",
    "x=Symbol(\"x\")\n",
    "x1real=5000\n",
    "x2real=0.002\n",
    "a,b,c=1,-5000.002,10\n",
    "expre=a*(x*x)+b*x+c\n",
    "tabla.append([\"Primera Formula \",\"\",\"\"])\n",
    "lit=b*b-4*a*c\n",
    "x1=(-b+math.pow(lit ,0.5))/2*a\n",
    "Ev= math.fabs(x1real-x1)\n",
    "Et=(Ev/x1)*100\n",
    "tabla.append([x1real,x1,Et])\n",
    "x2=round((-b-math.pow(lit,0.5))/2*a,5 )\n",
    "Ev= math.fabs(x2real-x2)\n",
    "Et=(Ev/x2)*100\n",
    "tabla.append([x2real,x2,Et])\n",
    "tabla.append([\"Segunda Formula \",\"\",\"\"])\n",
    "xx1=round((-2*c)/(b+math.pow(lit,0.5)),5)\n",
    "Ev= x1real-xx1\n",
    "Et=(Ev/xx1)*100\n",
    "tabla.append([x1real,xx1,Et])\n",
    "xx2=round((-2*c)/(b-math.pow(lit,0.5)),5)\n",
    "Ev= x2real-xx2\n",
    "Et=(Ev/xx2)*100\n",
    "tabla.append([x2real,xx2,Et])\n",
    "\n",
    "print tabulate (tabla, headers=[\"Valor real\", \"Valor Aprox\", \"Error Rel %\"])"
   ]
  },
  {
   "cell_type": "code",
   "execution_count": null,
   "metadata": {
    "collapsed": true
   },
   "outputs": [],
   "source": []
  }
 ],
 "metadata": {
  "kernelspec": {
   "display_name": "Python 2",
   "language": "python",
   "name": "python2"
  },
  "language_info": {
   "codemirror_mode": {
    "name": "ipython",
    "version": 2
   },
   "file_extension": ".py",
   "mimetype": "text/x-python",
   "name": "python",
   "nbconvert_exporter": "python",
   "pygments_lexer": "ipython2",
   "version": "2.7.10"
  }
 },
 "nbformat": 4,
 "nbformat_minor": 0
}
