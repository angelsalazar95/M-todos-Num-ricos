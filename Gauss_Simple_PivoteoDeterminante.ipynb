{
 "cells": [
  {
   "cell_type": "code",
   "execution_count": 8,
   "metadata": {
    "collapsed": false
   },
   "outputs": [
    {
     "name": "stdout",
     "output_type": "stream",
     "text": [
      "Ingrese numero de incognitas:2\n",
      "Introduce la matriz de coeficientes y el vector solución\n",
      "\n",
      "Elemento A[1][1]: 1\n",
      "\n",
      "Elemento A[1][2]: 2\n",
      "\n",
      "Solucion 1: 5\n",
      "\n",
      "Elemento A[2][1]: 3\n",
      "\n",
      "Elemento A[2][2]: 8\n",
      "\n",
      "Solucion 2: 3\n",
      "\n",
      "La matriz original es:  [[1.0, 2.0], [3.0, 8.0]]\n",
      "\n",
      "El vector solucion es:  [5.0, 3.0]\n",
      "Determinante =  -2.0\n",
      "\n",
      "X1=14.333333\n",
      "\n",
      "X2=-5.000000\n"
     ]
    }
   ],
   "source": [
    "vector,matrix,x,producto=[],[],[],1.0\n",
    "m=int(raw_input('Ingrese numero de incognitas:'))\n",
    "n=m\n",
    "for z in range(0,n):\n",
    "    x.append(n*0.0)\n",
    "\n",
    "if(1):\n",
    "    for i in range(m):\n",
    "        matrix.append([])\n",
    "        for j in range(n):\n",
    "            matrix[i].append(0)\n",
    "\n",
    "    for k in range(n):\n",
    "        vector.append(0)\n",
    "    \n",
    "    print 'Introduce sistema de ecuaciones, matriz coeficientes y vector solucion'\n",
    "    for z in range(0,m):\n",
    "        for y in range(0,n):\n",
    "            matrix[z][y]=float((raw_input(\"\\nElemento A[\"+str(z+1)+\"][\"+str(y+1)+\"]: \")))\n",
    "        vector[z]=float((raw_input('\\nSolucion '+str(z+1)+': ')))\n",
    "    print \"\\nLa matriz ingresada es: \",matrix\n",
    "    print \"\\nEl vector solucion ingresado es: \",vector\n",
    "    \n",
    "    p,k=0,0\n",
    "    p=k\n",
    "    big = abs(matrix[k][k])\n",
    "    for i in range(k+1,n):\n",
    "        dummy = abs(matrix[i][k])\n",
    "        if (dummy>big):\n",
    "            big=dummy\n",
    "            p=i\n",
    "    if (p!=k):\n",
    "        for j in range(k,n):\n",
    "            dummy=matrix[p][j]\n",
    "            matrix[p][j]=matrix[k][j]\n",
    "            matrix[k][j]=dummy\n",
    "        dummy=vector[p]\n",
    "        vector[p]=vector[k]\n",
    "        vector[k]=dummy\n",
    "    \n",
    "    for z in range (0,m):\n",
    "        for y in range(z+1,m):\n",
    "            factor=(matrix[y][z]/matrix[z][z])\n",
    "            vector[y]=vector[y]-(factor*vector[y])\n",
    "            for w in range(0,n):\n",
    "                matrix[y][w]=matrix[y][w]-(factor*matrix[z][w])\n",
    "    #sustitución hacia atrás\n",
    "    x[m-1]=vector[m-1]/matrix[m-1][m-1]\n",
    "    \n",
    "    for y in range(m-2,-1,-1):\n",
    "        suma=0\n",
    "        for w in range(0,n):\n",
    "            suma=suma+matrix[y][w]*x[w]\n",
    "        x[y]=(vector[y]-suma)/matrix[y][y]\n",
    "    \n",
    "    for i in range (0,n):\n",
    "        for j in range (0,n):\n",
    "            if(i==j):\n",
    "                producto=producto*matrix[i][j]\n",
    "    print \"Determinante = \",producto\n",
    "    \n",
    "    for i in range(len(x)):\n",
    "        print \"\\nX%d=%f\" %(i+1,x[i])\n",
    "    \n"
   ]
  },
  {
   "cell_type": "code",
   "execution_count": null,
   "metadata": {
    "collapsed": true
   },
   "outputs": [],
   "source": []
  }
 ],
 "metadata": {
  "kernelspec": {
   "display_name": "Python 2",
   "language": "python",
   "name": "python2"
  },
  "language_info": {
   "codemirror_mode": {
    "name": "ipython",
    "version": 2
   },
   "file_extension": ".py",
   "mimetype": "text/x-python",
   "name": "python",
   "nbconvert_exporter": "python",
   "pygments_lexer": "ipython2",
   "version": "2.7.10"
  }
 },
 "nbformat": 4,
 "nbformat_minor": 0
}
