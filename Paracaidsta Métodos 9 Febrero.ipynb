{
 "cells": [
  {
   "cell_type": "code",
   "execution_count": 48,
   "metadata": {
    "collapsed": false
   },
   "outputs": [],
   "source": [
    "import math\n",
    "import matplotlib.pyplot as plt\n",
    "g=9.8\n",
    "m=68.1\n",
    "c=12.5\n",
    "v2=0\n",
    "vi=0\n",
    "tp=0\n",
    "x1=[]\n",
    "x2=[]\n",
    "y1=[]\n",
    "y2=[]\n",
    "\n",
    "for ti in range (100):\n",
    "    v=(g*m/c)*(1-(math.pow(math.e,-c*ti/m)))\n",
    "    x1.append(ti)\n",
    "    y1.append(v)\n",
    "    if(ti%2==0):\n",
    "        x2.append(tp)\n",
    "        y2.append(v2)\n",
    "        tp=ti+2\n",
    "        \n",
    "        v2=vi+(g-((c/m)*(vi)))*(tp-ti)\n",
    "        vi=v2\n",
    "plt.axis([0,80,0,60])\n",
    "plt.plot(x1,y1,'*')\n",
    "plt.plot(x2,y2)\n",
    "\n",
    "plt.xlabel(\"Tiempo(s)\")\n",
    "plt.ylabel(\"Velocidad(m/s)\")\n",
    "plt.show()"
   ]
  },
  {
   "cell_type": "code",
   "execution_count": null,
   "metadata": {
    "collapsed": true
   },
   "outputs": [],
   "source": [
    "\n"
   ]
  },
  {
   "cell_type": "code",
   "execution_count": null,
   "metadata": {
    "collapsed": true
   },
   "outputs": [],
   "source": []
  }
 ],
 "metadata": {
  "kernelspec": {
   "display_name": "Python 2",
   "language": "python",
   "name": "python2"
  },
  "language_info": {
   "codemirror_mode": {
    "name": "ipython",
    "version": 2
   },
   "file_extension": ".py",
   "mimetype": "text/x-python",
   "name": "python",
   "nbconvert_exporter": "python",
   "pygments_lexer": "ipython2",
   "version": "2.7.10"
  }
 },
 "nbformat": 4,
 "nbformat_minor": 0
}
