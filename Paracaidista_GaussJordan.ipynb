{
 "cells": [
  {
   "cell_type": "code",
   "execution_count": 5,
   "metadata": {
    "collapsed": false
   },
   "outputs": [
    {
     "name": "stdout",
     "output_type": "stream",
     "text": [
      "Los Resultados del ejercicios, con GaussJordan son:\n",
      "A=  8.5941 m/s^2\n",
      "T=  34.4118 N\n",
      "R=  36.7647 N\n"
     ]
    }
   ],
   "source": [
    "#Planteamiento del problema. Un programa de computadora para resolver ecuaciones algebraicas lineales, \n",
    "#sirve para resolver un problema relacionado con el ejemplo de la caída del paracaidista. Suponga que un equipo\n",
    "#de tres paracaidistas está unido por una cuerda ligera mientras va en caída libre a una velocidad de 5 m/s. \n",
    "#Calcule la tensión en cada sección de la cuerda y la aceleración del equipo, dado la matriz de coeficientes\n",
    "#del sistema de ecuaciones resultante.\n",
    "n,cte,m = 3,0,[[70.0,1.0,0.0,636.0],[60.0,-1.0,1.0,518.0],[40.0,0.0,-1.0,307.0]]\n",
    "for i in range(0,n):\n",
    "    m.append([0.0]*(n+1))\n",
    "\n",
    "\n",
    "\n",
    "def unos(m,cte,n):\n",
    "    temp=0.0\n",
    "    temp=m[cte][cte]\n",
    "    for y in range(0,n+1):\n",
    "        m[cte][y]=m[cte][y]/temp\n",
    "        \n",
    "def Ceros(m,cte,n):\n",
    "    for x in range(0,n):\n",
    "        if (x!=cte):\n",
    "            c = m[x][cte]\n",
    "            for z in range(0,n+1):\n",
    "                m[x][z]=((-1*c)*m[cte][z])+m[x][z]\n",
    "                \n",
    "for a in range(0,n):\n",
    "    unos(m,cte,n)\n",
    "    Ceros(m,cte,n)\n",
    "    cte += 1\n",
    "\n",
    "print \"Los Resultados del ejercicios, con Gauss-Jordan son:\"\n",
    "print \"A= \", (float(format((m[0][3]), '.5g'))),\"m/s^2\"\n",
    "print \"T= \", (float(format((m[1][3]), '.6g'))), \"N\"\n",
    "print \"R= \", (float(format((m[2][3]), '.6g'))),\"N\""
   ]
  },
  {
   "cell_type": "code",
   "execution_count": null,
   "metadata": {
    "collapsed": true
   },
   "outputs": [],
   "source": []
  }
 ],
 "metadata": {
  "kernelspec": {
   "display_name": "Python 2",
   "language": "python",
   "name": "python2"
  },
  "language_info": {
   "codemirror_mode": {
    "name": "ipython",
    "version": 2
   },
   "file_extension": ".py",
   "mimetype": "text/x-python",
   "name": "python",
   "nbconvert_exporter": "python",
   "pygments_lexer": "ipython2",
   "version": "2.7.10"
  }
 },
 "nbformat": 4,
 "nbformat_minor": 0
}
