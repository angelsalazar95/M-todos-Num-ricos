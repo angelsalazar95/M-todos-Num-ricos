{
 "cells": [
  {
   "cell_type": "code",
   "execution_count": null,
   "metadata": {
    "collapsed": true
   },
   "outputs": [],
   "source": []
  },
  {
   "cell_type": "code",
   "execution_count": 31,
   "metadata": {
    "collapsed": false
   },
   "outputs": [
    {
     "data": {
      "image/png": "[encoded data removed]",
      "text/plain": [
       "<matplotlib.figure.Figure at 0xb771c18>"
      ]
     },
     "metadata": {},
     "output_type": "display_data"
    },
    {
     "name": "stdout",
     "output_type": "stream",
     "text": [
      "Método Bisección\n",
      "|   Iteracion |     xl |    xu |      xr |   Ea(%) |    Et(%) |\n",
      "|------------:|-------:|------:|--------:|--------:|---------:|\n",
      "|           1 | 0.5    | 1     | 0.75    |   100   | 22.7455  |\n",
      "|           2 | 0.5    | 0.75  | 0.625   |    20   |  7.29456 |\n",
      "|           3 | 0.5    | 0.625 | 0.5625  |    11.1 |  3.00604 |\n",
      "|           4 | 0.5625 | 0.625 | 0.59375 |     5.3 |  2.41533 |\n",
      "Falsa posición\n",
      "|   Iteracion |       xl |   xu |       xr |     Ea(%) |    Et(%) |\n",
      "|------------:|---------:|-----:|---------:|----------:|---------:|\n",
      "|           1 | 0.5      |    1 | 0.642728 | 100       |  9.85158 |\n",
      "|           2 | 0.642728 |    1 | 0.524701 |  22.4941  | 10.4265  |\n",
      "|           3 | 0.524701 |    1 | 0.623826 |  15.8899  |  7.12015 |\n",
      "|           4 | 0.623826 |    1 | 0.541285 |  15.2492  |  7.04327 |\n",
      "|           5 | 0.541285 |    1 | 0.610715 |  11.3687  |  5.12611 |\n",
      "|           6 | 0.610715 |    1 | 0.552685 |  10.4996  |  4.83531 |\n",
      "|           7 | 0.552685 |    1 | 0.601516 |   8.11806 |  3.67528 |\n"
     ]
    }
   ],
   "source": [
    "#5.1\n",
    "import math\n",
    "import matplotlib.pyplot as plt\n",
    "%matplotlib inline\n",
    "from tabulate import tabulate\n",
    "i=-4\n",
    "datos=[]\n",
    "X,Y=[],[]\n",
    "def func(x):\n",
    "    valor=(-25)+(82*x)-(90*x*x)+(44*x*x*x)-(8*x*x*x*x)+(0.7*x*x*x*x*x)\n",
    "    return valor\n",
    "#grafica\n",
    "while 1:\n",
    "    X.append(i)\n",
    "    Y.append(func(i))\n",
    "    i+=1\n",
    "    if(i==4):\n",
    "        break\n",
    "    \n",
    "plt.axis([-2,3,-1000,1000])\n",
    "plt.plot(X,Y)\n",
    "plt.title(\"Metodo Grafico\")\n",
    "plt.xlabel(\"X\")\n",
    "plt.ylabel(\"Y(X)\")\n",
    "plt.grid(True)\n",
    "plt.show()\n",
    "#Bisección\n",
    "xl,xu,xr,fxl,fxr,xrant,i=0.5,1.0,0.0,1.0,1.0,0.0,1\n",
    "es=10\n",
    "verd=0.579409\n",
    "print \"Método Bisección\"\n",
    "while 1:\n",
    "    xrant=xr\n",
    "    xr=(xl+xu)/2\n",
    "    fxl=func(xl)\n",
    "    fxr=func(xr)\n",
    "    ea=math.fabs((xr-xrant)/xr)*100\n",
    "    et=math.fabs((verd-xr)/xr)*100\n",
    "    datos.append([i,xl,xu,xr,round(ea,1),et])\n",
    "    if(ea<es):\n",
    "        break\n",
    "    if((fxl*fxr)<0):\n",
    "        xu=xr\n",
    "    if((fxl*fxr)>0):\n",
    "        xl=xr\n",
    "    i+=1\n",
    "print tabulate(datos,headers=[\"Iteracion\", \"xl\", \"xu\",\"xr\",\"Ea(%)\",\"Et(%)\"],tablefmt='pipe')\n",
    "#Falsa Posición\n",
    "xl,xu,xr,fxl,fxr,xrant,i=0.5,1.0,0.0,1.0,1.0,0.0,1\n",
    "es=10\n",
    "verd=0.579409\n",
    "datos=[]\n",
    "while ((fxl*fxr)!=0):\n",
    "    xrant=xr\n",
    "    xr=xu-(func(xu)*(xl-xu))/(func(xl)-func(xu))\n",
    "    ea=math.fabs((xr-xrant)/xr)*100\n",
    "    et=math.fabs((verd-xr)/xr)*100\n",
    "    datos.append([i,xl,xu,xr,ea,et])\n",
    "    if((fxl*fxr)<0):\n",
    "        xu=xr\n",
    "    if((fxl*fxr)>0):\n",
    "        xl=xr\n",
    "    i+=1\n",
    "    if(ea<=es):\n",
    "        break\n",
    "print \"Falsa posición\"\n",
    "print tabulate(datos,headers=[\"Iteracion\", \"xl\", \"xu\",\"xr\",\"Ea(%)\",\"Et(%)\"],tablefmt='pipe')"
   ]
  },
  {
   "cell_type": "code",
   "execution_count": null,
   "metadata": {
    "collapsed": true
   },
   "outputs": [],
   "source": []
  }
 ],
 "metadata": {
  "kernelspec": {
   "display_name": "Python 2",
   "language": "python",
   "name": "python2"
  },
  "language_info": {
   "codemirror_mode": {
    "name": "ipython",
    "version": 2
   },
   "file_extension": ".py",
   "mimetype": "text/x-python",
   "name": "python",
   "nbconvert_exporter": "python",
   "pygments_lexer": "ipython2",
   "version": "2.7.10"
  }
 },
 "nbformat": 4,
 "nbformat_minor": 0
}
