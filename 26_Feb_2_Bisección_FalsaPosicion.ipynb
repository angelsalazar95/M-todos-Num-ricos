{
 "cells": [
  {
   "cell_type": "code",
   "execution_count": 17,
   "metadata": {
    "collapsed": false
   },
   "outputs": [
    {
     "data": {
      "image/png": "[encoded data removed]",
      "text/plain": [
       "<matplotlib.figure.Figure at 0xbebd518>"
      ]
     },
     "metadata": {},
     "output_type": "display_data"
    },
    {
     "name": "stdout",
     "output_type": "stream",
     "text": [
      "  Iteracion    Error Biseccion (%)     Error Falsa Posicion (%)\n",
      "-----------  ----------------------  --------------------------\n",
      "          1             5.27868                     0.887019\n",
      "          2             1.48712                     0.0946725\n",
      "          3             1.89578                     0.0101172\n",
      "          4             0.204327                    0.00110176\n",
      "          5             0.641399                    0.00014062\n",
      "          6             0.218536                    3.8152e-05\n",
      "          7             0.0071041                   2.72279e-05\n",
      "          8             0.0986117                   2.60633e-05\n",
      "          9             0.0457538                   2.59391e-05\n",
      "         10             0.0193248                   2.59259e-05\n",
      "         11             0.00611037                  2.59245e-05\n",
      "         12             0.000496864                 2.59243e-05\n",
      "         13             0.00280675                  2.59243e-05\n",
      "         14             0.00115494                  2.59243e-05\n",
      "         15             0.00032904                  2.59243e-05\n",
      "         16             8.39119e-05                 2.59243e-05\n"
     ]
    }
   ],
   "source": [
    "import math\n",
    "from tabulate import tabulate\n",
    "import matplotlib.pyplot as plt\n",
    "%matplotlib inline\n",
    "\n",
    "xVerd=14.7802\n",
    "m, g, v, t, xl, xu, xr, fxl, fxr, f1, f2, f3, xl2, xu2, xr2=68.1, 9.8, 40.0, 10.0, 12.0, 16.0, 0.0, 1.0, 1.0, 1.0, 1.0, 1.0, 12.0, 16.0, 0.0\n",
    "Error1, Error2, tabla, time, aux1, aux2=[],[],[], [], [],[]\n",
    "cont=0\n",
    "\n",
    "def fun(num):\n",
    "    fc=((g*m)/num)*(1-math.exp(-(num/68.1)*10.0))-v\n",
    "    return fc\n",
    "    \n",
    "while ((fxl*fxr)!=0):\n",
    "    xr=(xl+xu)/2\n",
    "    fxl=fun(xl)\n",
    "    fxr=fun(xr)\n",
    "    erpv=math.fabs(((xVerd-xr)/xVerd)*100)\n",
    "    Error1.append(erpv)\n",
    "    if ((fxl*fxr)<0):\n",
    "        xu=xr\n",
    "    if((fxl*fxr)>0):\n",
    "         xl=xr   \n",
    "\n",
    "while ((f1*f3)!=0):\n",
    "    f1=metodo1(xl2)\n",
    "    f2=metodo1(xu2)\n",
    "    xr2=xu2-(f2*(xl2-xu2))/(f1-f2)\n",
    "    f3=metodo1(xr2)\n",
    "    erpv2=math.fabs(((xVerd-xr2)/xVerd)*100)\n",
    "    Error2.append(erpv2)\n",
    "    if ((f1*f3)<0):\n",
    "        xu2=xr2\n",
    "    if((f1*f3)>0):\n",
    "         xl2=xr2 \n",
    "\n",
    "for d in range (len(Error2)):\n",
    "    cont+=1\n",
    "    time.append(cont)\n",
    "    aux1.append(Error1[d])\n",
    "    tabla.append([cont, Error1[d], Error2[d]])\n",
    "\n",
    "plt.title(\"GRAFICA\")\n",
    "plt.axis([1, 17, 0, 7])\n",
    "plt.ylabel('Errores relativo porcentual verdadero')\n",
    "plt.xlabel('Iteracion')\n",
    "plt.plot(time, aux1, marker='+', label=\"Biseccion\")\n",
    "plt.plot(time, Error2, marker='*', label=\"Falsa Posicion\")\n",
    "plt.legend()\n",
    "plt.show()\n",
    "print tabulate(tabla, headers=[\"Iteracion\", \"Error Biseccion (%) \", \"Error Falsa Posicion (%)\"], tablefmt=\"simple\")"
   ]
  }
 ],
 "metadata": {
  "kernelspec": {
   "display_name": "Python 2",
   "language": "python",
   "name": "python2"
  },
  "language_info": {
   "codemirror_mode": {
    "name": "ipython",
    "version": 2
   },
   "file_extension": ".py",
   "mimetype": "text/x-python",
   "name": "python",
   "nbconvert_exporter": "python",
   "pygments_lexer": "ipython2",
   "version": "2.7.10"
  }
 },
 "nbformat": 4,
 "nbformat_minor": 0
}
