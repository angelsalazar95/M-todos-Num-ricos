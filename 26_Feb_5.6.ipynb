{
 "cells": [
  {
   "cell_type": "code",
   "execution_count": 15,
   "metadata": {
    "collapsed": false
   },
   "outputs": [
    {
     "data": {
      "image/png": "[encoded data removed]",
      "text/plain": [
       "<matplotlib.figure.Figure at 0x3db6b3c8>"
      ]
     },
     "metadata": {},
     "output_type": "display_data"
    },
    {
     "name": "stdout",
     "output_type": "stream",
     "text": [
      "Método Bisección\n",
      "|   Iteracion |   xl |    xu |     xr |   Ea(%) |   Et(%) |\n",
      "|------------:|-----:|------:|-------:|--------:|--------:|\n",
      "|           1 | 0.5  | 2     | 1.25   |   100   | 53.6473 |\n",
      "|           2 | 1.25 | 2     | 1.625  |    23.1 | 64.3441 |\n",
      "|           3 | 1.25 | 1.625 | 1.4375 |    13   | 59.6933 |\n",
      "Falsa posición\n",
      "|   Iteracion |      xl |   xu |      xr |     Ea(%) |   Et(%) |\n",
      "|------------:|--------:|-----:|--------:|----------:|--------:|\n",
      "|           1 | 0.5     |    2 | 1.62871 | 100       | 125.461 |\n",
      "|           2 | 1.62871 |    2 | 1.37959 |  18.0575  | 130.059 |\n",
      "|           3 | 1.37959 |    2 | 1.42673 |   3.30383 | 129.066 |\n"
     ]
    }
   ],
   "source": [
    "import math\n",
    "import matplotlib.pyplot as plt\n",
    "%matplotlib inline\n",
    "from tabulate import tabulate\n",
    "i=-10\n",
    "es=0.5*math.pow(10,-1)\n",
    "datos=[]\n",
    "X,Y=[],[]\n",
    "def func(x):\n",
    "    valor=math.log(math.pow(x,2))-0.7\n",
    "    return valor\n",
    "#grafica\n",
    "while 1:\n",
    "    if(i==0):\n",
    "        X.append(i)\n",
    "        Y.append(-9)\n",
    "    else:\n",
    "        X.append(i)\n",
    "        Y.append(func(i))\n",
    "    i=i+1\n",
    "    if(i==10):\n",
    "        break\n",
    "    \n",
    "plt.axis([-3,3,-6,2])\n",
    "plt.plot(X,Y)\n",
    "plt.title(\"Metodo Grafico\")\n",
    "plt.xlabel(\"X\")\n",
    "plt.ylabel(\"Y(X)\")\n",
    "plt.grid(True)\n",
    "plt.show()\n",
    "#Bisección\n",
    "xl,xu,xr,fxl,fxr,xrant,i=0.5,2.0,0.0,1.0,1.0,0.0,1\n",
    "\n",
    "verd=0.579409\n",
    "print \"Método Bisección\"\n",
    "for i in range(1,4):\n",
    "    xrant=xr\n",
    "    xr=(xl+xu)/2\n",
    "    fxl=func(xl)\n",
    "    fxr=func(xr)\n",
    "    ea=math.fabs((xr-xrant)/xr)*100\n",
    "    et=math.fabs((verd-xr)/xr)*100\n",
    "    datos.append([i,xl,xu,xr,round(ea,1),et])\n",
    "    if((fxl*fxr)<0):\n",
    "        xu=xr\n",
    "    if((fxl*fxr)>0):\n",
    "        xl=xr\n",
    "print tabulate(datos,headers=[\"Iteracion\", \"xl\", \"xu\",\"xr\",\"Ea(%)\",\"Et(%)\"],tablefmt='pipe')\n",
    "#Falsa Posición\n",
    "xl,xu,xr,fxl,fxr,xrant,i=0.5,2.0,0.0,1.0,1.0,0.0,1\n",
    "\n",
    "verd=-0.414689\n",
    "datos=[]\n",
    "for i in range(1,4):\n",
    "    xrant=xr\n",
    "    xr=xu-(func(xu)*(xl-xu))/(func(xl)-func(xu))\n",
    "    ea=math.fabs((xr-xrant)/xr)*100\n",
    "    et=math.fabs((verd-xr)/xr)*100\n",
    "    datos.append([i,xl,xu,xr,ea,et])\n",
    "    if((fxl*fxr)<0):\n",
    "        xu=xr\n",
    "    if((fxl*fxr)>0):\n",
    "        xl=xr\n",
    "print \"Falsa posición\"\n",
    "print tabulate(datos,headers=[\"Iteracion\", \"xl\", \"xu\",\"xr\",\"Ea(%)\",\"Et(%)\"],tablefmt='pipe')"
   ]
  }
 ],
 "metadata": {
  "kernelspec": {
   "display_name": "Python 2",
   "language": "python",
   "name": "python2"
  },
  "language_info": {
   "codemirror_mode": {
    "name": "ipython",
    "version": 2
   },
   "file_extension": ".py",
   "mimetype": "text/x-python",
   "name": "python",
   "nbconvert_exporter": "python",
   "pygments_lexer": "ipython2",
   "version": "2.7.10"
  }
 },
 "nbformat": 4,
 "nbformat_minor": 0
}
