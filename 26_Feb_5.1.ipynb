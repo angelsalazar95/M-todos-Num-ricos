{
 "cells": [
  {
   "cell_type": "code",
   "execution_count": 79,
   "metadata": {
    "collapsed": false,
    "scrolled": true
   },
   "outputs": [
    {
     "data": {
      "image/png": "[encoded data removed]",
      "text/plain": [
       "<matplotlib.figure.Figure at 0xb80c320>"
      ]
     },
     "metadata": {},
     "output_type": "display_data"
    },
    {
     "name": "stdout",
     "output_type": "stream",
     "text": [
      "Con la fórmula cuadratica: -1.40512483795 Y 6.40512483795\n",
      "|   Iteracion |   xl |   xu |    xr |     Ea(%) |    Et(%) |\n",
      "|------------:|-----:|-----:|------:|----------:|---------:|\n",
      "|           1 | 5    | 10   | 7.5   | 100       | 17.0937  |\n",
      "|           2 | 5    |  7.5 | 6.25  |  20       |  2.42189 |\n",
      "|           3 | 6.25 |  7.5 | 6.875 |   9.09091 |  7.33593 |\n"
     ]
    }
   ],
   "source": [
    "#5.1\n",
    "import math\n",
    "import matplotlib.pyplot as plt\n",
    "%matplotlib inline\n",
    "from tabulate import tabulate\n",
    "xl,xu,xr, fxl, fxr,i, xrant=5,10,0,1,1,-5,0\n",
    "a,b,c=-0.5,2.5,4.5\n",
    "datos=[]\n",
    "X,Y=[],[]\n",
    "def func(val):\n",
    "    valor=-0.5*math.pow(val,2)+2.5*val+4.5\n",
    "    return valor\n",
    "#grafica\n",
    "while 1:\n",
    "    X.append(i)\n",
    "    Y.append(func(i))\n",
    "    i+=1\n",
    "    if(i==10):\n",
    "        break\n",
    "    \n",
    "plt.axis([-10,10,-10,10])\n",
    "plt.plot(X,Y)\n",
    "plt.title(\"Metodo Grafico\")\n",
    "plt.xlabel(\"X\")\n",
    "plt.ylabel(\"Y(X)\")\n",
    "plt.grid(True)\n",
    "plt.show()\n",
    "#cuadratico\n",
    "x1=(-b+math.sqrt(b*b-4*a*c))/(2*a)\n",
    "x2=(-b-math.sqrt(b*b-4*a*c))/(2*a)\n",
    "print \"Con la fórmula cuadratica: \"+str(x1)+\" Y \"+str(x2)\n",
    "#Bisección\n",
    "verd=x2\n",
    "xl,xu,xr,fxl,fxr,xrant=5.0,10.0,0.0,1.0,1.0,0.0\n",
    "for i in range(1,4):\n",
    "    xrant=xr\n",
    "    xr=(xl+xu)/2\n",
    "    fxl=func(xl)\n",
    "    fxr=func(xr)\n",
    "    ea=math.fabs((xr-xrant)/xr)*100\n",
    "    et=(math.fabs(verd-xr)/verd)*100\n",
    "    datos.append([i,xl,xu,xr,ea,et])\n",
    "    if((fxl*fxr)<0):\n",
    "        xu=xr\n",
    "    if((fxl*fxr)>0):\n",
    "        xl=xr\n",
    "print tabulate(datos,headers=[\"Iteracion\", \"xl\", \"xu\",\"xr\",\"Ea(%)\",\"Et(%)\"],tablefmt='pipe')"
   ]
  },
  {
   "cell_type": "code",
   "execution_count": null,
   "metadata": {
    "collapsed": true
   },
   "outputs": [],
   "source": []
  }
 ],
 "metadata": {
  "kernelspec": {
   "display_name": "Python 2",
   "language": "python",
   "name": "python2"
  },
  "language_info": {
   "codemirror_mode": {
    "name": "ipython",
    "version": 2
   },
   "file_extension": ".py",
   "mimetype": "text/x-python",
   "name": "python",
   "nbconvert_exporter": "python",
   "pygments_lexer": "ipython2",
   "version": "2.7.10"
  }
 },
 "nbformat": 4,
 "nbformat_minor": 0
}
