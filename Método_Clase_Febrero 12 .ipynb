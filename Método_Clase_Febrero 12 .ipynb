{
 "cells": [
  {
   "cell_type": "code",
   "execution_count": 9,
   "metadata": {
    "collapsed": false,
    "scrolled": true
   },
   "outputs": [
    {
     "name": "stdout",
     "output_type": "stream",
     "text": [
      "  T(s)    Vanalitca(t)    Vaprox(t)  Ever()            Er (%)          Eaprox(%)\n",
      "------  --------------  -----------  ---------------  ---------------  -----------------\n",
      "     0          0            0       -                -                -\n",
      "     2         16.405       19.6     19.6             100.0            100.0\n",
      "     4         27.7693      32.0047  15.5997181692    48.7419618689    38.7589928058\n",
      "     6         35.6418      39.8555  12.0862522321    30.3251470468    19.6982502203\n",
      "     8         41.0953      44.8243  9.18253526943    20.4856249107    11.0849351717\n",
      "    10         44.8731      47.969   6.87368538627    14.3294416894    6.55565852366\n",
      "    12         47.4902      49.9592  5.08607751208    10.1804592077    3.98374247475\n",
      "    14         49.3031      51.2188  3.72863680607    7.27981675786    2.45927664982\n",
      "    16         50.559       52.016   2.71291112855    5.21552924411    1.53260414894\n",
      "    18         51.429       52.5206  1.96157552092    3.73487099841    0.960656023333\n",
      "    20         52.0317      52.8399  1.41090566587    2.67015251254    0.604318077669\n",
      "    22         52.4492      53.042   1.01032818024    1.90477062795    0.381011314606\n",
      "    24         52.7384      53.1699  0.720740038332   1.35554167255    0.240559236617\n",
      "    26         52.9387      53.2508  0.512477915813   0.962384627352   0.152016767152\n",
      "    28         53.0775      53.3021  0.363363105405   0.681705370424   0.0961178428417\n",
      "    30         53.1736      53.3345  0.257000096983   0.481864645404   0.0607953079589\n",
      "    32         53.2402      53.355   0.18137828958    0.339946056103   0.0384621139326\n",
      "    34         53.2864      53.368   0.127764330244   0.239402467753   0.0243364710815\n",
      "    36         53.3183      53.3762  0.089846814756   0.168327393566   0.0154000054723\n",
      "    38         53.3405      53.3814  0.063088107606   0.118183619721   0.00974560279542\n",
      "    40         53.3558      53.3847  0.0442400827838  0.0828703039529  0.00616754147754\n",
      "    42         53.3664      53.3868  0.0309863559041  0.0580412228298  0.00390324026501\n",
      "    44         53.3738      53.3881  0.0216803294525  0.0406088974106  0.00247027165481\n",
      "    46         53.3789      53.389   0.0151547933609  0.0283856307996  0.00156339271363\n",
      "    48         53.3824      53.3895  0.0105843742657  0.0198248277129  0.000989450209169\n",
      "    50         53.3849      53.3898  0.007386670658   0.0138353531791  0.000626211996545\n"
     ]
    },
    {
     "data": {
      "image/png": "[encoded data removed]",
      "text/plain": [
       "<matplotlib.figure.Figure at 0xbf881d0>"
      ]
     },
     "metadata": {},
     "output_type": "display_data"
    },
    {
     "data": {
      "text/plain": [
       "<matplotlib.text.Text at 0xc8720f0>"
      ]
     },
     "execution_count": 9,
     "metadata": {},
     "output_type": "execute_result"
    },
    {
     "data": {
      "image/png": "[encoded data removed]",
      "text/plain": [
       "<matplotlib.figure.Figure at 0xc684240>"
      ]
     },
     "metadata": {},
     "output_type": "display_data"
    }
   ],
   "source": [
    "import math\n",
    "import matplotlib.pyplot as plt\n",
    "from tabulate import tabulate\n",
    "%matplotlib inline\n",
    "g=9.8\n",
    "m=68.1\n",
    "c=12.5\n",
    "vi=0\n",
    "tp=0\n",
    "ti=0\n",
    "Ever=\"-\"\n",
    "Er=\"-\"\n",
    "Ea=\"-\"\n",
    "v2=0\n",
    "tole=(0.5*math.pow(10,(-3)))\n",
    "tabla = []\n",
    "v2=0\n",
    "x1, x2, y1, y2, err1, err2=[],[],[],[],[],[]\n",
    "while 1:\n",
    "    v=(g*m/c)*(1-(math.pow(math.e,-c*ti/m)))\n",
    "    x1.append(ti)\n",
    "    y1.append(v)\n",
    "    if(ti%2==0):\n",
    "        x2.append(tp)\n",
    "        y2.append(v2)\n",
    "        tp=ti+2\n",
    "        tabla.append([ti,v,v2,Ever,Er,Ea])\n",
    "        v2=vi+(g-((c/m)*(vi)))*(tp-ti)\n",
    "        Ever=math.fabs(v-v2)\n",
    "        Er=(Ever/v2)*100\n",
    "        Ea=((v2-vi)/v2)*100\n",
    "        err1.append(Ever)\n",
    "        err2.append(Ea)\n",
    "        if(Ea<=tole):\n",
    "            break\n",
    "        vi=v2\n",
    "    ti=ti+1\n",
    "print tabulate(tabla, headers=[\"T(s)\",\"Vanalitca(t)\", \"Vaprox(t)\", \"Ever()\",\" Er (%)\",\"Eaprox(%)\"])\n",
    "plt.axis([0,ti+5,0,v2+5])\n",
    "plt.plot(x1,y1,'*')\n",
    "plt.plot(x2,y2)\n",
    "plt.xlabel(\"Tiempo(s)\")\n",
    "plt.ylabel(\"Velocidad(m/s)\")\n",
    "plt.show()\n",
    "#errores\n",
    "plt.axis([0,ti+5,0,v2+5])\n",
    "plt.plot(x2,err1,'*')\n",
    "plt.plot(x2,err2)\n",
    "plt.xlabel(\"Tiempo(s)\")\n",
    "plt.ylabel(\"Errores\")\n"
   ]
  },
  {
   "cell_type": "code",
   "execution_count": null,
   "metadata": {
    "collapsed": true
   },
   "outputs": [],
   "source": []
  },
  {
   "cell_type": "code",
   "execution_count": null,
   "metadata": {
    "collapsed": true
   },
   "outputs": [],
   "source": []
  },
  {
   "cell_type": "code",
   "execution_count": null,
   "metadata": {
    "collapsed": true
   },
   "outputs": [],
   "source": []
  }
 ],
 "metadata": {
  "kernelspec": {
   "display_name": "Python 2",
   "language": "python",
   "name": "python2"
  },
  "language_info": {
   "codemirror_mode": {
    "name": "ipython",
    "version": 2
   },
   "file_extension": ".py",
   "mimetype": "text/x-python",
   "name": "python",
   "nbconvert_exporter": "python",
   "pygments_lexer": "ipython2",
   "version": "2.7.10"
  }
 },
 "nbformat": 4,
 "nbformat_minor": 0
}
