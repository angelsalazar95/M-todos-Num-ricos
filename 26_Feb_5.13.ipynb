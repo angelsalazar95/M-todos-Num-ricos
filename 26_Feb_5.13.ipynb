{
 "cells": [
  {
   "cell_type": "code",
   "execution_count": 9,
   "metadata": {
    "collapsed": false
   },
   "outputs": [
    {
     "name": "stdout",
     "output_type": "stream",
     "text": [
      "Falsa posición\n",
      "|   Iteracion |      xl |   xu |      xr |       Ea(%) |      Et(%) |\n",
      "|------------:|--------:|-----:|--------:|------------:|-----------:|\n",
      "|           1 | 55      |   60 | 59.8441 | 100         | 0.00514658 |\n",
      "|           2 | 59.8441 |   60 | 59.8389 |   0.0087051 | 0.00355808 |\n"
     ]
    }
   ],
   "source": [
    "import math\n",
    "import matplotlib.pyplot as plt\n",
    "%matplotlib inline\n",
    "from tabulate import tabulate\n",
    "datos=[]\n",
    "def func(x):\n",
    "    valor=x*(1-math.exp(-135/x))-53.57\n",
    "    return valor\n",
    "#Falsa Posición\n",
    "xl,xu,xr,fxl,fxr,xrant,i=55.0,60.0,0.0,1.0,1.0,0.0,1.0\n",
    "es=0.1\n",
    "verd=59.841\n",
    "while 1:\n",
    "    xrant=xr\n",
    "    xr=xu-(func(xu)*(xl-xu))/(func(xl)-func(xu))\n",
    "    ea=math.fabs((xr-xrant)/xr)*100\n",
    "    et=math.fabs((verd-xr)/xr)*100\n",
    "    datos.append([i,xl,xu,xr,ea,et])\n",
    "    if((fxl*fxr)<0):\n",
    "        xu=xr\n",
    "    if((fxl*fxr)>0):\n",
    "        xl=xr\n",
    "    i+=1\n",
    "    if(ea<=es):\n",
    "        break\n",
    "print \"Falsa posición\"\n",
    "print tabulate(datos,headers=[\"Iteracion\", \"xl\", \"xu\",\"xr\",\"Ea(%)\",\"Et(%)\"],tablefmt='pipe')"
   ]
  },
  {
   "cell_type": "code",
   "execution_count": null,
   "metadata": {
    "collapsed": true
   },
   "outputs": [],
   "source": []
  }
 ],
 "metadata": {
  "kernelspec": {
   "display_name": "Python 2",
   "language": "python",
   "name": "python2"
  },
  "language_info": {
   "codemirror_mode": {
    "name": "ipython",
    "version": 2
   },
   "file_extension": ".py",
   "mimetype": "text/x-python",
   "name": "python",
   "nbconvert_exporter": "python",
   "pygments_lexer": "ipython2",
   "version": "2.7.10"
  }
 },
 "nbformat": 4,
 "nbformat_minor": 0
}
