{
 "cells": [
  {
   "cell_type": "markdown",
   "metadata": {},
   "source": [
    "Sistema de Ecuaciones: \n",
    "0.3X + 0.52Y +Z = -0.01\n",
    "0.5X + Y + 1.9Z = 0.67\n",
    "0.1X + 0.3Y + 0.5Z = -0.44"
   ]
  },
  {
   "cell_type": "code",
   "execution_count": null,
   "metadata": {
    "collapsed": true
   },
   "outputs": [],
   "source": []
  },
  {
   "cell_type": "code",
   "execution_count": 7,
   "metadata": {
    "collapsed": false
   },
   "outputs": [
    {
     "name": "stdout",
     "output_type": "stream",
     "text": [
      "Elemento [0], [0] :0.3\n",
      "Elemento [0], [1] :0.52\n",
      "Elemento [0], [2] :1\n",
      "Igual a X : -0.01\n",
      "Elemento [1], [0] :0.5\n",
      "Elemento [1], [1] :1\n",
      "Elemento [1], [2] :1.9\n",
      "Igual a Y : 0.67\n",
      "Elemento [2], [0] :0.1\n",
      "Elemento [2], [1] :0.3\n",
      "Elemento [2], [2] :0.5\n",
      "Igual a Z : -0.44\n",
      "Determinante igual a :  -0.0022\n",
      "X =  -14.9\n",
      "Y =  -29.5\n",
      "Z =  19.8\n"
     ]
    }
   ],
   "source": [
    "f, c,deter,d1,d2,d3,aux=3,3,0,0,0,0,[]\n",
    "m0, m1, m2,matriz =[[0,0,0],[0,0,0],[0,0,0]],[[0,0,0],[0,0,0],[0,0,0]],[[0,0,0],[0,0,0],[0,0,0]],[[0,0,0],[0,0,0],[0,0,0]]\n",
    "def funcion():\n",
    "    for i in range (f):\n",
    "        for j in range (c):\n",
    "            captura=input(\"Elemento [%d], [%d] :\" %(i,j))\n",
    "            if (i==0 and j==2):\n",
    "                aux.append(input(\"Igual a X : \" ))\n",
    "            if (i==1 and j==2):\n",
    "                aux.append(input(\"Igual a Y : \" ))\n",
    "            if (i==2 and j==2):\n",
    "                aux.append(input(\"Igual a Z : \" ))\n",
    "            matriz[i][j]=captura\n",
    "            m0[i][j]=captura\n",
    "            m1[i][j]=captura\n",
    "            m2[i][j]=captura\n",
    "    return matriz\n",
    "funcion()\n",
    "  \n",
    "for g in range(3):\n",
    "    m0[g][0]=aux[g]\n",
    "    m1[g][1]=aux[g]\n",
    "    m2[g][2]=aux[g]\n",
    "\n",
    "def solve(z,k):\n",
    "    aux2=0\n",
    "    if k==0:\n",
    "        aux2=(z[1][1]*z[2][2]-z[1][2]*z[2][1])\n",
    "    if k==1:\n",
    "        aux2=(z[1][0]*z[2][2]-z[1][2]*z[2][0])*(-1)\n",
    "    if k==2:\n",
    "        aux2=(z[1][0]*z[2][1]-z[1][1]*z[2][0])    \n",
    "    return (aux2)\n",
    "\n",
    "for i in range (0,3):    \n",
    "    deter = deter + (matriz[0][i]*solve(matriz,i))\n",
    "    d1 = d1 + (m0[0][i]*solve(m0,i))\n",
    "    d2 = d2 + (m1[0][i]*solve(m1,i))\n",
    "    d3 = d3 + (m2[0][i]*solve(m2,i))\n",
    "print \"Determinante igual a : \", deter\n",
    "if(deter!=0):\n",
    "    print \"X = \", d1/deter\n",
    "    print \"Y = \", d2/deter\n",
    "    print \"Z = \", d3/deter\n",
    "else: \n",
    "    print\"Determinante es cero, no es posible solucionar el sistema\""
   ]
  },
  {
   "cell_type": "code",
   "execution_count": null,
   "metadata": {
    "collapsed": true
   },
   "outputs": [],
   "source": []
  }
 ],
 "metadata": {
  "kernelspec": {
   "display_name": "Python 2",
   "language": "python",
   "name": "python2"
  },
  "language_info": {
   "codemirror_mode": {
    "name": "ipython",
    "version": 2
   },
   "file_extension": ".py",
   "mimetype": "text/x-python",
   "name": "python",
   "nbconvert_exporter": "python",
   "pygments_lexer": "ipython2",
   "version": "2.7.10"
  }
 },
 "nbformat": 4,
 "nbformat_minor": 0
}
