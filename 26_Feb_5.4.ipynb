{
 "cells": [
  {
   "cell_type": "code",
   "execution_count": 9,
   "metadata": {
    "collapsed": false
   },
   "outputs": [
    {
     "data": {
      "image/png": "[encoded data removed]",
      "text/plain": [
       "<matplotlib.figure.Figure at 0xb829dd8>"
      ]
     },
     "metadata": {},
     "output_type": "display_data"
    },
    {
     "name": "stdout",
     "output_type": "stream",
     "text": [
      "Método Bisección\n",
      "|   Iteracion |        xl |        xu |        xr |   Ea(%) |   Et(%) |\n",
      "|------------:|----------:|----------:|----------:|--------:|--------:|\n",
      "|           1 | -1        |  0        | -0.5      |   100   | 215.882 |\n",
      "|           2 | -0.5      |  0        | -0.25     |   100   | 331.764 |\n",
      "|           3 | -0.5      | -0.25     | -0.375    |    33.3 | 254.509 |\n",
      "|           4 | -0.5      | -0.375    | -0.4375   |    14.3 | 232.436 |\n",
      "|           5 | -0.4375   | -0.375    | -0.40625  |     7.7 | 242.624 |\n",
      "|           6 | -0.4375   | -0.40625  | -0.421875 |     3.7 | 237.341 |\n",
      "|           7 | -0.421875 | -0.40625  | -0.414062 |     1.9 | 239.933 |\n",
      "|           8 | -0.421875 | -0.414062 | -0.417969 |     0.9 | 238.625 |\n",
      "|           9 | -0.417969 | -0.414062 | -0.416016 |     0.5 | 239.276 |\n",
      "|          10 | -0.416016 | -0.414062 | -0.415039 |     0.2 | 239.603 |\n",
      "|          11 | -0.415039 | -0.414062 | -0.414551 |     0.1 | 239.768 |\n",
      "|          12 | -0.415039 | -0.414551 | -0.414795 |     0.1 | 239.686 |\n",
      "|          13 | -0.414795 | -0.414551 | -0.414673 |     0   | 239.727 |\n",
      "Falsa posición\n",
      "|   Iteracion |        xl |   xu |        xr |       Ea(%) |       Et(%) |\n",
      "|------------:|----------:|-----:|----------:|------------:|------------:|\n",
      "|           1 | -1        |    0 | -0.287425 | 100         | 44.2772     |\n",
      "|           2 | -0.287425 |    0 | -0.454531 |  36.7645    |  8.76552    |\n",
      "|           3 | -0.454531 |    0 | -0.403365 |  12.6847    |  2.80729    |\n",
      "|           4 | -0.403365 |    0 | -0.418002 |   3.50152   |  0.792529   |\n",
      "|           5 | -0.418002 |    0 | -0.413729 |   1.03287   |  0.232153   |\n",
      "|           6 | -0.413729 |    0 | -0.414969 |   0.298894  |  0.067435   |\n",
      "|           7 | -0.414969 |    0 | -0.414608 |   0.0869786 |  0.0194849  |\n",
      "|           8 | -0.414608 |    0 | -0.414713 |   0.0252699 |  0.00578994 |\n"
     ]
    }
   ],
   "source": [
    "import math\n",
    "import matplotlib.pyplot as plt\n",
    "%matplotlib inline\n",
    "from tabulate import tabulate\n",
    "i=-1\n",
    "es=0.5*math.pow(10,-1)\n",
    "datos=[]\n",
    "X,Y=[],[]\n",
    "def func(x):\n",
    "    valor=(-12)-(21*x)+(18*x*x)-(2.75*x*x*x)\n",
    "    return valor\n",
    "#grafica\n",
    "while 1:\n",
    "    X.append(i)\n",
    "    Y.append(func(i))\n",
    "    i+=1\n",
    "    if(i==10):\n",
    "        break\n",
    "    \n",
    "plt.axis([-2,5,-20,20])\n",
    "plt.plot(X,Y)\n",
    "plt.title(\"Metodo Grafico\")\n",
    "plt.xlabel(\"X\")\n",
    "plt.ylabel(\"Y(X)\")\n",
    "plt.grid(True)\n",
    "plt.show()\n",
    "#Bisección\n",
    "xl,xu,xr,fxl,fxr,xrant,i=-1.0,0.0,0.0,1.0,1.0,0.0,1\n",
    "\n",
    "verd=0.579409\n",
    "print \"Método Bisección\"\n",
    "while 1:\n",
    "    xrant=xr\n",
    "    xr=(xl+xu)/2\n",
    "    fxl=func(xl)\n",
    "    fxr=func(xr)\n",
    "    ea=math.fabs((xr-xrant)/xr)*100\n",
    "    et=math.fabs((verd-xr)/xr)*100\n",
    "    datos.append([i,xl,xu,xr,round(ea,1),et])\n",
    "    if(ea<es):\n",
    "        break\n",
    "    if((fxl*fxr)<0):\n",
    "        xu=xr\n",
    "    if((fxl*fxr)>0):\n",
    "        xl=xr\n",
    "    i+=1\n",
    "print tabulate(datos,headers=[\"Iteracion\", \"xl\", \"xu\",\"xr\",\"Ea(%)\",\"Et(%)\"],tablefmt='pipe')\n",
    "#Falsa Posición\n",
    "xl,xu,xr,fxl,fxr,xrant,i=-1,0,0.0,1.0,1.0,0.0,1\n",
    "\n",
    "verd=-0.414689\n",
    "datos=[]\n",
    "while ((fxl*fxr)!=0):\n",
    "    xrant=xr\n",
    "    xr=xu-(func(xu)*(xl-xu))/(func(xl)-func(xu))\n",
    "    ea=math.fabs((xr-xrant)/xr)*100\n",
    "    et=math.fabs((verd-xr)/xr)*100\n",
    "    datos.append([i,xl,xu,xr,ea,et])\n",
    "    if((fxl*fxr)<0):\n",
    "        xu=xr\n",
    "    if((fxl*fxr)>0):\n",
    "        xl=xr\n",
    "    i+=1\n",
    "    if(ea<=es):\n",
    "        break\n",
    "print \"Falsa posición\"\n",
    "print tabulate(datos,headers=[\"Iteracion\", \"xl\", \"xu\",\"xr\",\"Ea(%)\",\"Et(%)\"],tablefmt='pipe')"
   ]
  },
  {
   "cell_type": "code",
   "execution_count": null,
   "metadata": {
    "collapsed": true
   },
   "outputs": [],
   "source": []
  }
 ],
 "metadata": {
  "kernelspec": {
   "display_name": "Python 2",
   "language": "python",
   "name": "python2"
  },
  "language_info": {
   "codemirror_mode": {
    "name": "ipython",
    "version": 2
   },
   "file_extension": ".py",
   "mimetype": "text/x-python",
   "name": "python",
   "nbconvert_exporter": "python",
   "pygments_lexer": "ipython2",
   "version": "2.7.10"
  }
 },
 "nbformat": 4,
 "nbformat_minor": 0
}
