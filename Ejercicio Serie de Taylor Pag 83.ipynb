{
 "cells": [
  {
   "cell_type": "code",
   "execution_count": 67,
   "metadata": {
    "collapsed": false,
    "scrolled": true
   },
   "outputs": [
    {
     "name": "stdout",
     "output_type": "stream",
     "text": [
      "|   Orden | F(n)(x)   |   F(x+i) |           Ev | Et                    |\n",
      "|--------:|:----------|---------:|-------------:|:----------------------|\n",
      "|       0 | cos(x)    | 0.707107 | -0.207107    | -29.2893218813453%    |\n",
      "|       1 | -sin(x)   | 0.521987 | -0.0219867   | -4.21211124732081%    |\n",
      "|       2 | -cos(x)   | 0.497754 |  0.00224551  | 0.451127741759530%    |\n",
      "|       3 | sin(x)    | 0.499869 |  0.000130853 | 0.0261774647944362%   |\n",
      "|       4 | cos(x)    | 0.500008 | -7.55081e-06 | -0.00151013931702352% |\n",
      "|       5 | -sin(x)   | 0.5      | -3.04e-07    | -6.08000375419033e-5% |\n"
     ]
    }
   ],
   "source": [
    "\n",
    "from sympy import *\n",
    "from tabulate import tabulate\n",
    "import math\n",
    "Es=(0.5*math.pow(10,(-2)))\n",
    "val=round(cos(math.pi/3),2)\n",
    "tabla, f=[],[]\n",
    "x=Symbol('x')\n",
    "ant, ang, h, aprox=0, (math.pi/4),(math.pi/12),0\n",
    "pos1, pos2, i=1,2,0\n",
    "while 1:\n",
    "    if(i%2==0):\n",
    "        if(pos2==i):\n",
    "            f.append(-cos(x))\n",
    "            pos2+=4\n",
    "        else:    \n",
    "            f.append(cos(x))\n",
    "    else:\n",
    "        if(pos1==i):\n",
    "            f.append(-sin(x))\n",
    "            pos1+=4\n",
    "        else:\n",
    "            f.append(sin(x))\n",
    "    res=f[i].subs(x,ang).evalf()\n",
    "    ap=(res*math.pow(h,i))/math.factorial(i)\n",
    "    ant=aprox\n",
    "    aprox=aprox+ap\n",
    "    Ev=val-aprox\n",
    "    et=(Ev/aprox)*100\n",
    "    Ea=((aprox-ant)/aprox)*100\n",
    "    tabla.append([i,f[i], aprox,Ev, str(et)+\"%\"])    \n",
    "    i+=1\n",
    "    if(math.fabs(Ea)<=Es):\n",
    "        break\n",
    "print tabulate(tabla, headers=[\"Orden\", \"F(n)(x)\", \"F(x+i)\",\"Ev\",\"Et\"], tablefmt=\"pipe\")"
   ]
  },
  {
   "cell_type": "code",
   "execution_count": null,
   "metadata": {
    "collapsed": true
   },
   "outputs": [],
   "source": []
  }
 ],
 "metadata": {
  "kernelspec": {
   "display_name": "Python 2",
   "language": "python",
   "name": "python2"
  },
  "language_info": {
   "codemirror_mode": {
    "name": "ipython",
    "version": 2
   },
   "file_extension": ".py",
   "mimetype": "text/x-python",
   "name": "python",
   "nbconvert_exporter": "python",
   "pygments_lexer": "ipython2",
   "version": "2.7.10"
  }
 },
 "nbformat": 4,
 "nbformat_minor": 0
}
