{
 "cells": [
  {
   "cell_type": "code",
   "execution_count": 11,
   "metadata": {
    "collapsed": false
   },
   "outputs": [
    {
     "name": "stdout",
     "output_type": "stream",
     "text": [
      "|   Iteracion |   xl |      xu |      xr |   F(xl)*F(xu) |      Raiz |\n",
      "|------------:|-----:|--------:|--------:|--------------:|----------:|\n",
      "|           1 |   12 | 14.9113 | 14.9113 |  -1.54269     | 51.1443   |\n",
      "|           2 |   12 | 14.7942 | 14.7942 |  -0.165368    | 44.9205   |\n",
      "|           3 |   12 | 14.7817 | 14.7817 |  -0.0176402   | 39.2634   |\n",
      "|           4 |   12 | 14.7804 | 14.7804 |  -0.00188074  | 34.1148   |\n",
      "|           5 |   12 | 14.7802 | 14.7802 |  -0.000200507 | 29.4232   |\n",
      "|           6 |   12 | 14.7802 | 14.7802 |  -2.13761e-05 | 25.1424   |\n",
      "|           7 |   12 | 14.7802 | 14.7802 |  -2.27891e-06 | 21.2314   |\n",
      "|           8 |   12 | 14.7802 | 14.7802 |  -2.42955e-07 | 17.6534   |\n",
      "|           9 |   12 | 14.7802 | 14.7802 |  -2.59015e-08 | 14.3758   |\n",
      "|          10 |   12 | 14.7802 | 14.7802 |  -2.76138e-09 | 11.3691   |\n",
      "|          11 |   12 | 14.7802 | 14.7802 |  -2.94386e-10 |  8.60731  |\n",
      "|          12 |   12 | 14.7802 | 14.7802 |  -3.13827e-11 |  6.06694  |\n",
      "|          13 |   12 | 14.7802 | 14.7802 |  -3.36244e-12 |  3.727    |\n",
      "|          14 |   12 | 14.7802 | 14.7802 |  -3.44865e-13 |  1.5687   |\n",
      "|          15 |   12 | 14.7802 | 14.7802 |  -4.31082e-14 | -0.424841 |\n",
      "|          16 |   12 | 14.7802 | 14.7802 |   0           | -2.26876  |\n"
     ]
    },
    {
     "data": {
      "image/png": "[encoded data removed]",
      "text/plain": [
       "<matplotlib.figure.Figure at 0x42069b0>"
      ]
     },
     "metadata": {},
     "output_type": "display_data"
    }
   ],
   "source": [
    "import math\n",
    "import matplotlib.pyplot as plt\n",
    "from tabulate import tabulate\n",
    "%matplotlib inline\n",
    "m, g, v, t, fxl, fxr, xl, xu, xr, i =68.1, 9.8, 40.0, 10.0, 1.0, 1.0, 12.0, 16.0, 0, 1\n",
    "datos, f,time=[],[],[]\n",
    "def fun(x):\n",
    "    valor=((g*m)/x)*(1-math.exp(-(x/68.1)*10.0))-v\n",
    "    return valor\n",
    "while((fxl*fxr)!=0):\n",
    "    xrant=xr\n",
    "    xr=xu-(func(xu)*(xl-xu))/(func(xl)-func(xu))\n",
    "    fxl=fun(xl)\n",
    "    fxr=fun(xr)\n",
    "    if((fxl*fxr)<0):\n",
    "        xu=xr\n",
    "    if((fxl*fxr)>0):\n",
    "        xl=xr\n",
    "    num= fxl*fxr\n",
    "    fc=fun(i)\n",
    "    f.append(fc)\n",
    "    time.append(i)\n",
    "    datos.append([i,xl,xu,xr,num, fc])\n",
    "    i+=1\n",
    "print tabulate(datos,headers=[\"Iteracion\", \"xl\", \"xu\",\"xr\", \"F(xl)*F(xu)\", \"Raiz\", \"F(c)\"],tablefmt='pipe')\n",
    "plt.plot(time,f)\n",
    "plt.xlabel('C')\n",
    "plt.ylabel('F(c)')\n",
    "plt.grid(True)\n",
    "plt.show()"
   ]
  },
  {
   "cell_type": "code",
   "execution_count": null,
   "metadata": {
    "collapsed": true
   },
   "outputs": [],
   "source": []
  }
 ],
 "metadata": {
  "kernelspec": {
   "display_name": "Python 2",
   "language": "python",
   "name": "python2"
  },
  "language_info": {
   "codemirror_mode": {
    "name": "ipython",
    "version": 2
   },
   "file_extension": ".py",
   "mimetype": "text/x-python",
   "name": "python",
   "nbconvert_exporter": "python",
   "pygments_lexer": "ipython2",
   "version": "2.7.10"
  }
 },
 "nbformat": 4,
 "nbformat_minor": 0
}
