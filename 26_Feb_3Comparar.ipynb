{
 "cells": [
  {
   "cell_type": "code",
   "execution_count": 1,
   "metadata": {
    "collapsed": false,
    "scrolled": true
   },
   "outputs": [
    {
     "name": "stdout",
     "output_type": "stream",
     "text": [
      "Método Bisección\n",
      "|   Iteracion |       xl |      xu |       xr |   Ea(%) |\n",
      "|------------:|---------:|--------:|---------:|--------:|\n",
      "|           1 | 0        | 1.3     | 0.65     |   100   |\n",
      "|           2 | 0.65     | 1.3     | 0.975    |    33.3 |\n",
      "|           3 | 0.975    | 1.3     | 1.1375   |    14.3 |\n",
      "|           4 | 0.975    | 1.1375  | 1.05625  |     7.7 |\n",
      "|           5 | 0.975    | 1.05625 | 1.01562  |     4   |\n",
      "|           6 | 0.975    | 1.01562 | 0.995313 |     2   |\n",
      "|           7 | 0.995313 | 1.01562 | 1.00547  |     1   |\n",
      "|           8 | 0.995313 | 1.00547 | 1.00039  |     0.5 |\n",
      "|           9 | 0.995313 | 1.00039 | 0.997852 |     0.3 |\n",
      "Falsa posición\n",
      "|   Iteracion |        xl |   xu |        xr |   Ea(%) |\n",
      "|------------:|----------:|-----:|----------:|--------:|\n",
      "|           1 | 0         |  1.3 | 0.0942996 |   100   |\n",
      "|           2 | 0.0942996 |  1.3 | 0.181759  |    48.1 |\n",
      "|           3 | 0.181759  |  1.3 | 0.262874  |    30.9 |\n",
      "|           4 | 0.262874  |  1.3 | 0.338105  |    22.3 |\n",
      "|           5 | 0.338105  |  1.3 | 0.407878  |    17.1 |\n",
      "|           6 | 0.407878  |  1.3 | 0.472583  |    13.7 |\n",
      "|           7 | 0.472583  |  1.3 | 0.532572  |    11.3 |\n",
      "|           8 | 0.532572  |  1.3 | 0.588145  |     9.4 |\n",
      "|           9 | 0.588145  |  1.3 | 0.639544  |     8   |\n",
      "|          10 | 0.639544  |  1.3 | 0.686943  |     6.9 |\n",
      "|          11 | 0.686943  |  1.3 | 0.730446  |     6   |\n",
      "|          12 | 0.730446  |  1.3 | 0.770099  |     5.1 |\n",
      "|          13 | 0.770099  |  1.3 | 0.805908  |     4.4 |\n",
      "|          14 | 0.805908  |  1.3 | 0.837874  |     3.8 |\n",
      "|          15 | 0.837874  |  1.3 | 0.866028  |     3.3 |\n",
      "|          16 | 0.866028  |  1.3 | 0.890457  |     2.7 |\n",
      "|          17 | 0.890457  |  1.3 | 0.911328  |     2.3 |\n",
      "|          18 | 0.911328  |  1.3 | 0.928885  |     1.9 |\n",
      "|          19 | 0.928885  |  1.3 | 0.943436  |     1.5 |\n",
      "|          20 | 0.943436  |  1.3 | 0.955334  |     1.2 |\n",
      "|          21 | 0.955334  |  1.3 | 0.964946  |     1   |\n",
      "|          22 | 0.964946  |  1.3 | 0.97263   |     0.8 |\n",
      "|          23 | 0.97263   |  1.3 | 0.978719  |     0.6 |\n",
      "|          24 | 0.978719  |  1.3 | 0.98351   |     0.5 |\n"
     ]
    }
   ],
   "source": [
    "#Bisección\n",
    "import math\n",
    "from tabulate import tabulate\n",
    "xl,xu,xr, fxl, fxr,i, xrant=0,1.3,0,1,1,1,0\n",
    "datos=[]\n",
    "es=0.5\n",
    "def func(val):\n",
    "    valor=math.pow(val,10)-1\n",
    "    return valor\n",
    "while ((fxl*fxr)!=0):\n",
    "    xrant=xr\n",
    "    xr=(xl+xu)/2\n",
    "    fxl=func(xl)\n",
    "    fxr=func(xr)\n",
    "    ea=math.fabs((xr-xrant)/xr)*100\n",
    "    datos.append([i,xl,xu,xr,round(ea,1)])\n",
    "    if(ea<=es):\n",
    "        break\n",
    "    if((fxl*fxr)<0):\n",
    "        xu=xr\n",
    "    if((fxl*fxr)>0):\n",
    "        xl=xr\n",
    "    \n",
    "    i+=1\n",
    "print \"Método Bisección\"\n",
    "print tabulate(datos,headers=[\"Iteracion\", \"xl\", \"xu\",\"xr\",\"Ea(%)\"],tablefmt='pipe')\n",
    "#falsa posición\n",
    "xl,xu,xr, fxl, fxr,i, xrant=0,1.3,0,1,1,1,0\n",
    "datos=[]\n",
    "while ((fxl*fxr)!=0):\n",
    "    xrant=xr\n",
    "    xr=xu-(func(xu)*(xl-xu))/(func(xl)-func(xu))\n",
    "    ea=math.fabs((xr-xrant)/xr)*100\n",
    "    datos.append([i,xl,xu,xr,round(ea,1)])\n",
    "    \n",
    "    if((fxl*fxr)<0):\n",
    "        xu=xr\n",
    "    if((fxl*fxr)>0):\n",
    "        xl=xr\n",
    "    i+=1\n",
    "    if(ea<=es):\n",
    "        break\n",
    "print \"Falsa posición\"\n",
    "print tabulate(datos,headers=[\"Iteracion\", \"xl\", \"xu\",\"xr\",\"Ea(%)\"],tablefmt='pipe')"
   ]
  },
  {
   "cell_type": "code",
   "execution_count": null,
   "metadata": {
    "collapsed": true
   },
   "outputs": [],
   "source": []
  }
 ],
 "metadata": {
  "kernelspec": {
   "display_name": "Python 2",
   "language": "python",
   "name": "python2"
  },
  "language_info": {
   "codemirror_mode": {
    "name": "ipython",
    "version": 2
   },
   "file_extension": ".py",
   "mimetype": "text/x-python",
   "name": "python",
   "nbconvert_exporter": "python",
   "pygments_lexer": "ipython2",
   "version": "2.7.10"
  }
 },
 "nbformat": 4,
 "nbformat_minor": 0
}
